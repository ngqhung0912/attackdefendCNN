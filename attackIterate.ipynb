{
 "cells": [
  {
   "cell_type": "markdown",
   "id": "881f7aa3-6ceb-4c6a-b446-950a24d29c86",
   "metadata": {},
   "source": [
    "Import dependencies"
   ]
  },
  {
   "cell_type": "code",
   "execution_count": 2,
   "id": "f6658f4a-ff51-4d42-9fe8-7a17460b6968",
   "metadata": {},
   "outputs": [
    {
     "name": "stderr",
     "output_type": "stream",
     "text": [
      "2023-02-01 17:34:11.274039: I tensorflow/core/platform/cpu_feature_guard.cc:193] This TensorFlow binary is optimized with oneAPI Deep Neural Network Library (oneDNN) to use the following CPU instructions in performance-critical operations:  AVX2 AVX512F AVX512_VNNI FMA\n",
      "To enable them in other operations, rebuild TensorFlow with the appropriate compiler flags.\n",
      "2023-02-01 17:34:11.375582: I tensorflow/core/util/port.cc:104] oneDNN custom operations are on. You may see slightly different numerical results due to floating-point round-off errors from different computation orders. To turn them off, set the environment variable `TF_ENABLE_ONEDNN_OPTS=0`.\n",
      "2023-02-01 17:34:11.992011: W tensorflow/compiler/xla/stream_executor/platform/default/dso_loader.cc:64] Could not load dynamic library 'libnvinfer.so.7'; dlerror: libnvinfer.so.7: cannot open shared object file: No such file or directory; LD_LIBRARY_PATH: /usr/local/lib:/usr/local/nvidia/lib:/usr/local/nvidia/lib64\n",
      "2023-02-01 17:34:11.992095: W tensorflow/compiler/xla/stream_executor/platform/default/dso_loader.cc:64] Could not load dynamic library 'libnvinfer_plugin.so.7'; dlerror: libnvinfer_plugin.so.7: cannot open shared object file: No such file or directory; LD_LIBRARY_PATH: /usr/local/lib:/usr/local/nvidia/lib:/usr/local/nvidia/lib64\n",
      "2023-02-01 17:34:11.992100: W tensorflow/compiler/tf2tensorrt/utils/py_utils.cc:38] TF-TRT Warning: Cannot dlopen some TensorRT libraries. If you would like to use Nvidia GPU with TensorRT, please make sure the missing libraries mentioned above are installed properly.\n"
     ]
    }
   ],
   "source": [
    "import os\n",
    "import numpy as np\n",
    "import seaborn as sns\n",
    "import pandas as pd\n",
    "import tensorflow as tf\n",
    "from sklearn.metrics import confusion_matrix\n",
    "import matplotlib.pyplot as plt\n",
    "from sklearn.model_selection import train_test_split\n",
    "from sklearn.metrics import classification_report\n",
    "from tensorflow.python import keras\n",
    "from tensorflow.python.keras.models import Sequential\n",
    "from keras.layers import Dense, Conv2D, Activation, MaxPool2D, Flatten, Dropout, BatchNormalization\n",
    "from keras.optimizers import RMSprop,Adam\n",
    "from tensorflow.keras.preprocessing.image import ImageDataGenerator\n",
    "import visualkeras\n",
    "from keras.utils import plot_model\n",
    "import math\n",
    "from keras.optimizers import RMSprop\n",
    "import pickle\n"
   ]
  },
  {
   "cell_type": "markdown",
   "id": "f1d1e7ab-2a7a-42d7-8dbb-3244efd3c2b1",
   "metadata": {},
   "source": [
    "Load the model and prepare the data"
   ]
  },
  {
   "cell_type": "code",
   "execution_count": 3,
   "id": "668eaad4-7d61-46ce-b26b-90b261442f05",
   "metadata": {},
   "outputs": [
    {
     "name": "stderr",
     "output_type": "stream",
     "text": [
      "2023-02-01 17:34:18.025763: I tensorflow/core/common_runtime/gpu/gpu_device.cc:1613] Created device /job:localhost/replica:0/task:0/device:GPU:0 with 13582 MB memory:  -> device: 0, name: Tesla T4, pci bus id: 0000:3b:00.0, compute capability: 7.5\n",
      "2023-02-01 17:34:18.028038: I tensorflow/core/common_runtime/gpu/gpu_device.cc:1613] Created device /job:localhost/replica:0/task:0/device:GPU:1 with 1057 MB memory:  -> device: 1, name: Tesla T4, pci bus id: 0000:d8:00.0, compute capability: 7.5\n"
     ]
    }
   ],
   "source": [
    "model = tf.keras.models.load_model('init_model')"
   ]
  },
  {
   "cell_type": "code",
   "execution_count": 4,
   "id": "d9e39d59-60c7-4bfa-9bad-e2517f998aa8",
   "metadata": {},
   "outputs": [],
   "source": [
    "loss_object = tf.keras.losses.CategoricalCrossentropy()\n",
    "\n",
    "def create_adversarial_pattern(input_image, input_label):\n",
    "  with tf.GradientTape() as tape:\n",
    "    tape.watch(input_image)\n",
    "    prediction = model(input_image)\n",
    "    loss = loss_object(input_label, prediction)\n",
    "\n",
    "  # Get the gradients of the loss w.r.t to the input image.\n",
    "  gradient = tape.gradient(loss, input_image)\n",
    "  # Get the sign of the gradients to create the perturbation\n",
    "  signed_grad = tf.sign(gradient)\n",
    "  return signed_grad\n",
    "\n"
   ]
  },
  {
   "cell_type": "code",
   "execution_count": 5,
   "id": "21fc7f76-9e44-414b-aea4-0e4a9cf024a7",
   "metadata": {},
   "outputs": [],
   "source": [
    "test_dataset = pd.read_csv(\"fashion-mnist_test.csv\")\n",
    "\n",
    "class_names = ['T-shirt/top', 'Trouser', 'Pullover', 'Dress', 'Coat',\n",
    "               'Sandal',      'Shirt',   'Sneaker',  'Bag',   'Ankle boot']\n",
    "\n",
    "def data_preprocessing(raw):\n",
    "    label = tf.keras.utils.to_categorical(raw.label, 10)\n",
    "    num_images = raw.shape[0]\n",
    "    x_as_array = raw.values[:,1:]\n",
    "    x_shaped_array = x_as_array.reshape(num_images, 28, 28, 1)\n",
    "    image = x_shaped_array / 255\n",
    "    return image, label\n",
    "\n",
    "X, y = data_preprocessing(test_dataset)\n",
    "X_img = X.reshape(X.shape[0], 28, 28, 1)"
   ]
  },
  {
   "cell_type": "code",
   "execution_count": 6,
   "id": "8d77734c-d6ef-4c4d-bff3-f5c970e85288",
   "metadata": {},
   "outputs": [
    {
     "name": "stderr",
     "output_type": "stream",
     "text": [
      "2023-02-01 17:34:45.808029: I tensorflow/compiler/xla/stream_executor/cuda/cuda_dnn.cc:428] Loaded cuDNN version 8400\n"
     ]
    },
    {
     "name": "stdout",
     "output_type": "stream",
     "text": [
      "313/313 [==============================] - 3s 5ms/step\n"
     ]
    }
   ],
   "source": [
    "y_pred = model.predict(X)"
   ]
  },
  {
   "cell_type": "code",
   "execution_count": 7,
   "id": "6be7c00a-952c-4f9f-870c-d0b42e1e6ecc",
   "metadata": {},
   "outputs": [
    {
     "name": "stdout",
     "output_type": "stream",
     "text": [
      "<class 'numpy.ndarray'>\n"
     ]
    }
   ],
   "source": [
    "label = tf.one_hot(0, y_pred.shape[-1])\n",
    "label = tf.reshape(label, (1, y_pred.shape[-1]))"
   ]
  },
  {
   "cell_type": "code",
   "execution_count": 9,
   "id": "0bfb5d22-8623-4343-8249-0bdbc2754611",
   "metadata": {},
   "outputs": [],
   "source": [
    "def display_images(image):\n",
    "  plt.figure()\n",
    "  plt.imshow(image*0.5+0.5, cmap = 'gray')\n",
    "  plt.show()"
   ]
  },
  {
   "cell_type": "markdown",
   "id": "2fb5071e-643f-4114-829c-f8569d97ab74",
   "metadata": {},
   "source": [
    "Convert images to tensors"
   ]
  },
  {
   "cell_type": "code",
   "execution_count": 8,
   "id": "6c651391-af94-4d97-8d6d-c0c730e2d112",
   "metadata": {},
   "outputs": [
    {
     "name": "stdout",
     "output_type": "stream",
     "text": [
      "10000\n",
      "(1, 28, 28, 1)\n"
     ]
    }
   ],
   "source": [
    "X_img_reshape = []\n",
    "for im in X_img:\n",
    "    im_res = im.reshape(1, 28, 28, 1)\n",
    "    im_ten = tf.convert_to_tensor(im_res)\n",
    "    X_img_reshape.append(im_ten)"
   ]
  },
  {
   "cell_type": "markdown",
   "id": "c601c6e3-7565-4d19-93aa-bab38c68b11a",
   "metadata": {},
   "source": [
    "For multiple epsilon values"
   ]
  },
  {
   "cell_type": "code",
   "execution_count": null,
   "id": "31af2df8-2014-44a8-af45-b4ff0214b993",
   "metadata": {},
   "outputs": [],
   "source": [
    "X_im_perturbate = X_img_reshape.copy()\n",
    "eps = [0.001, 0.01,0.05, 0.1, 0.15, 0.2, 0.25, 0.3, 0.5, 1]\n",
    "#eps = [0.0001, 0.001]\n",
    "\n",
    "print(X_im_perturbate[1].shape)\n",
    "perturbated_list = []\n",
    "\n",
    "for e in range(len(eps)):\n",
    "    for n in range(10):\n",
    "        for x in range(len(X_im_perturbate)):\n",
    "            im = X_im_perturbate[x]\n",
    "            perturbations = create_adversarial_pattern(im, label)\n",
    "            adv_x = im + eps[e]*perturbations\n",
    "            #clip function\n",
    "            adv_x = tf.clip_by_value(im + eps[e], tf.math.maximum(0, tf.math.maximum(im-eps[e], adv_x)), 1)\n",
    "            # clip from 0 to 1\n",
    "            #adv_x = tf.clip_by_value(adv_x, 0, 1)\n",
    "            X_im_perturbate[x] = adv_x\n",
    "    display_images(X_im_perturbate[0])\n",
    "    perturbated_list.append(X_im_perturbate)\n",
    "    print(eps[e])\n",
    "    X_im_perturbate = X_img_reshape.copy()\n",
    "    \n",
    "with open(\"image_iterate_one_eps_clipModified\", \"wb\") as file:\n",
    "        pickle.dump(perturbated_list, file)\n"
   ]
  },
  {
   "cell_type": "markdown",
   "id": "aa4019d6-efb8-4a77-88bc-cf776e156aeb",
   "metadata": {},
   "source": [
    "For various iteration numbers"
   ]
  },
  {
   "cell_type": "code",
   "execution_count": null,
   "id": "ab919c59-0143-4291-8ec3-870d59b543cb",
   "metadata": {},
   "outputs": [],
   "source": [
    "X_im_perturbate = X_img_reshape.copy()\n",
    "eps = 0.05\n",
    "\n",
    "perturbated_list = []\n",
    "print(eps)\n",
    "\n",
    "for n in range(50):\n",
    "    for x in range(len(X_im_perturbate)):\n",
    "        im = X_im_perturbate[x]\n",
    "        perturbations = create_adversarial_pattern(im, label)\n",
    "        adv_x = im + eps*perturbations\n",
    "        adv_x = tf.clip_by_value(im + eps, tf.math.maximum(0, tf.math.maximum(im-eps, adv_x)), 1)\n",
    "        X_im_perturbate[x] = adv_x\n",
    "    if n == 0:\n",
    "        perturbated_list.append(X_im_perturbate.copy())\n",
    "        display_images(X_im_perturbate[0][0])\n",
    "        print(n)\n",
    "    if n == 9:\n",
    "        perturbated_list.append(X_im_perturbate.copy())\n",
    "        display_images(X_im_perturbate[0][0])\n",
    "        display_images(perturbated_list[0][0][0])\n",
    "        print(n)       \n",
    "    if n == 24:\n",
    "        perturbated_list.append(X_im_perturbate.copy())\n",
    "        display_images(X_im_perturbate[0][0])\n",
    "        print(n)\n",
    "    if n==49:\n",
    "        perturbated_list.append(X_im_perturbate.copy())\n",
    "        display_images(X_im_perturbate[0][0])\n",
    "        print(n)\n",
    "    X_im_perturbate = X_im_perturbate.copy()\n",
    "    print(n)\n",
    "\n",
    "    \n",
    "with open(\"image_iterate_one_eps_clipModified\", \"wb\") as file:\n",
    "        pickle.dump(perturbated_list, file)"
   ]
  },
  {
   "cell_type": "markdown",
   "id": "79bfeb80-0759-42aa-9930-64299e98b1e8",
   "metadata": {},
   "source": [
    "Open necessary files"
   ]
  },
  {
   "cell_type": "code",
   "execution_count": 30,
   "id": "ebd81c25-dbf3-42f6-a8ed-c791472cdae1",
   "metadata": {},
   "outputs": [],
   "source": [
    "file = open('image_iterate_list_clipInitial', 'rb')\n",
    "perturbated_list = pickle.load(file)\n",
    "file.close()"
   ]
  },
  {
   "cell_type": "code",
   "execution_count": 28,
   "id": "b89f6dc1-6540-4b9b-8ec0-8b178a95c073",
   "metadata": {},
   "outputs": [
    {
     "name": "stdout",
     "output_type": "stream",
     "text": [
      "313/313 [==============================] - 2s 6ms/step - loss: 0.3071 - accuracy: 0.9059\n",
      "313/313 [==============================] - 2s 6ms/step - loss: 10.2690 - accuracy: 0.4924\n",
      "313/313 [==============================] - 2s 6ms/step - loss: 60.4255 - accuracy: 0.3748\n",
      "313/313 [==============================] - 2s 6ms/step - loss: 178.1423 - accuracy: 0.3748\n"
     ]
    }
   ],
   "source": [
    "#for multiple iterations\n",
    "loss = []\n",
    "acc = []\n",
    "iterations = [1, 10, 25, 50]\n",
    "for i in range(len(iterations)): \n",
    "    img = np.concatenate(perturbated_list[i], axis=0)\n",
    "    score = model.evaluate(img, y, steps=math.ceil(10000/32))\n",
    "    loss.append(score[0])\n",
    "    acc.append(score[1])\n"
   ]
  },
  {
   "cell_type": "code",
   "execution_count": 31,
   "id": "95b0414c-fe58-46e6-8082-2fe1cd0e3df0",
   "metadata": {},
   "outputs": [
    {
     "name": "stdout",
     "output_type": "stream",
     "text": [
      "313/313 [==============================] - 2s 6ms/step - loss: 0.5181 - accuracy: 0.9157\n",
      "313/313 [==============================] - 2s 6ms/step - loss: 0.2300 - accuracy: 0.9378\n",
      "313/313 [==============================] - 2s 6ms/step - loss: 4.4855 - accuracy: 0.8542\n",
      "313/313 [==============================] - 2s 6ms/step - loss: 0.5042 - accuracy: 0.8454\n",
      "313/313 [==============================] - 2s 6ms/step - loss: 10.9548 - accuracy: 0.8436\n",
      "313/313 [==============================] - 2s 6ms/step - loss: 10.2690 - accuracy: 0.4924\n",
      "313/313 [==============================] - 2s 5ms/step - loss: 13.7274 - accuracy: 0.8270\n",
      "313/313 [==============================] - 2s 6ms/step - loss: 32.7295 - accuracy: 0.3264\n",
      "313/313 [==============================] - 2s 6ms/step - loss: 20.2910 - accuracy: 0.7560\n",
      "313/313 [==============================] - 2s 6ms/step - loss: 55.5391 - accuracy: 0.2586\n",
      "313/313 [==============================] - 2s 6ms/step - loss: 31.2287 - accuracy: 0.6356\n",
      "313/313 [==============================] - 2s 6ms/step - loss: 93.8197 - accuracy: 0.1734\n",
      "313/313 [==============================] - 2s 6ms/step - loss: 45.2653 - accuracy: 0.4897\n",
      "313/313 [==============================] - 2s 6ms/step - loss: 131.8360 - accuracy: 0.1377\n",
      "313/313 [==============================] - 2s 6ms/step - loss: 51.2509 - accuracy: 0.3889\n",
      "313/313 [==============================] - 2s 6ms/step - loss: 170.1268 - accuracy: 0.1277\n",
      "313/313 [==============================] - 2s 6ms/step - loss: 40.8458 - accuracy: 0.1871\n",
      "313/313 [==============================] - 2s 6ms/step - loss: 325.9885 - accuracy: 0.1152\n"
     ]
    }
   ],
   "source": [
    "#for different clipping methods\n",
    "loss_initial = []\n",
    "acc_initial = []\n",
    "loss_modified = []\n",
    "acc_modified = []\n",
    "eps = [0.001, 0.01,0.05, 0.1, 0.15, 0.2, 0.25, 0.3, 0.5]\n",
    "# eps = [0.0001, 0.001]\n",
    "for e in range(len(eps)): \n",
    "    img_initial = np.concatenate(perturbated_list[e], axis=0)\n",
    "    img_modified = np.concatenate(perturbated_list_modified[e], axis = 0)\n",
    "    score_initial = model.evaluate(img_initial, y, steps=math.ceil(10000/32))\n",
    "    score_modified = model.evaluate(img_modified, y, steps=math.ceil(10000/32))\n",
    "    loss_initial.append(score_initial[0])\n",
    "    acc_initial.append(score_initial[1])\n",
    "    loss_modified.append(score_modified[0])\n",
    "    acc_modified.append(score_modified[1])\n",
    "    \n",
    "    "
   ]
  },
  {
   "cell_type": "code",
   "execution_count": 47,
   "id": "876886ca-1fcd-4bd8-bbbe-1e361c094ca0",
   "metadata": {},
   "outputs": [],
   "source": [
    "model_adv = tf.keras.models.load_model('adversarial_model')"
   ]
  },
  {
   "cell_type": "code",
   "execution_count": 48,
   "id": "d041ce30-8485-4d21-baa1-42de839da0ce",
   "metadata": {},
   "outputs": [
    {
     "name": "stdout",
     "output_type": "stream",
     "text": [
      "313/313 [==============================] - 2s 6ms/step - loss: 0.1943 - accuracy: 0.9402\n",
      "Test loss: 0.19428963959217072\n",
      "Test accuracy: 0.9401999711990356\n"
     ]
    }
   ],
   "source": [
    "score = model_adv.evaluate(X, y, steps=math.ceil(10000/32))\n",
    "print('Test loss:', score[0])\n",
    "print('Test accuracy:', score[1])"
   ]
  },
  {
   "cell_type": "code",
   "execution_count": null,
   "id": "21c9d8e4-0b56-4ebf-8ce2-25b57f5d78e2",
   "metadata": {},
   "outputs": [
    {
     "name": "stdout",
     "output_type": "stream",
     "text": [
      "313/313 [==============================] - 2s 6ms/step - loss: 0.1983 - accuracy: 0.9405\n",
      "313/313 [==============================] - 2s 6ms/step - loss: 0.1924 - accuracy: 0.9394\n",
      "313/313 [==============================] - 2s 6ms/step - loss: 0.3808 - accuracy: 0.9043\n",
      "313/313 [==============================] - 2s 6ms/step - loss: 0.3153 - accuracy: 0.9088\n",
      "313/313 [==============================] - 2s 6ms/step - loss: 1.0151 - accuracy: 0.8375\n",
      "313/313 [==============================] - 2s 6ms/step - loss: 8.5164 - accuracy: 0.4078\n",
      "313/313 [==============================] - 2s 6ms/step - loss: 1.7992 - accuracy: 0.6869\n",
      "313/313 [==============================] - 2s 6ms/step - loss: 14.3686 - accuracy: 0.1968\n",
      "313/313 [==============================] - 2s 6ms/step - loss: 4.9987 - accuracy: 0.3393\n",
      "313/313 [==============================] - 2s 6ms/step - loss: 13.9179 - accuracy: 0.1506\n",
      "313/313 [==============================] - 2s 6ms/step - loss: 9.1653 - accuracy: 0.1866\n",
      "313/313 [==============================] - 2s 6ms/step - loss: 16.6472 - accuracy: 0.1146\n",
      "313/313 [==============================] - 2s 6ms/step - loss: 12.8512 - accuracy: 0.1426\n",
      "313/313 [==============================] - 2s 6ms/step - loss: 20.5438 - accuracy: 0.1085\n",
      "313/313 [==============================] - 2s 6ms/step - loss: 14.7662 - accuracy: 0.1340\n",
      "313/313 [==============================] - 2s 6ms/step - loss: 24.0088 - accuracy: 0.1085\n",
      "313/313 [==============================] - 2s 6ms/step - loss: 16.8532 - accuracy: 0.1093\n",
      "313/313 [==============================] - 2s 6ms/step - loss: 46.8859 - accuracy: 0.1073\n"
     ]
    }
   ],
   "source": [
    "loss_initial_adv = []\n",
    "acc_initial_adv = []\n",
    "loss_modified_adv = []\n",
    "acc_modified_adv = []\n",
    "eps = [0.001, 0.01,0.05, 0.1, 0.15, 0.2, 0.25, 0.3, 0.5]\n",
    "# eps = [0.0001, 0.001]\n",
    "for e in range(len(eps)): \n",
    "    img_initial = np.concatenate(perturbated_list[e], axis=0)\n",
    "    img_modified = np.concatenate(perturbated_list_modified[e], axis=0)\n",
    "    score_initial = model_adv.evaluate(img_initial, y, steps=math.ceil(10000/32))\n",
    "    score_modified = model_adv.evaluate(img_modified, y, steps=math.ceil(10000/32))\n",
    "    loss_initial_adv.append(score_initial[0])\n",
    "    acc_initial_adv.append(score_initial[1])\n",
    "    loss_modified_adv.append(score_modified[0])\n",
    "    acc_modified_adv.append(score_modified[1])"
   ]
  },
  {
   "cell_type": "code",
   "execution_count": 50,
   "id": "717011d9-a861-4fc7-a760-0ff2f3c92e3c",
   "metadata": {},
   "outputs": [],
   "source": [
    "eps = [0.01,0.05, 0.1, 0.15, 0.2, 0.25, 0.3, 0.5]\n"
   ]
  },
  {
   "cell_type": "markdown",
   "id": "dd34dbf1-50a3-468b-8f4b-dd232e3082d1",
   "metadata": {},
   "source": [
    "Visualizing the results"
   ]
  },
  {
   "cell_type": "code",
   "execution_count": 36,
   "id": "08128f56-df9b-406d-9f73-2d4a9a75ab39",
   "metadata": {},
   "outputs": [
    {
     "data": {
      "image/png": "[encoded data removed]",
      "text/plain": [
       "<Figure size 640x480 with 1 Axes>"
      ]
     },
     "metadata": {},
     "output_type": "display_data"
    }
   ],
   "source": [
    "plt.plot(eps[1:6], loss_initial[1:6], marker=\".\", label = \"Cliping range 0 to 1\")\n",
    "plt.plot(eps[1:6], loss_modified[1:6], marker=\".\", label = \"Clipping function\")\n",
    "plt.legend(loc=\"upper left\")\n",
    "plt.xticks(np.arange(0, 0.25, step=0.05))\n",
    "plt.ylabel(\"Loss\")\n",
    "plt.xlabel(\"epsilon\")\n",
    "plt.show()"
   ]
  },
  {
   "cell_type": "code",
   "execution_count": 37,
   "id": "14fe19b3-b8e3-41ad-9bc5-f37386d6b8bd",
   "metadata": {},
   "outputs": [
    {
     "data": {
      "image/png": "[encoded data removed]",
      "text/plain": [
       "<Figure size 640x480 with 1 Axes>"
      ]
     },
     "metadata": {},
     "output_type": "display_data"
    }
   ],
   "source": [
    "plt.plot(eps[1:6], acc_initial[1:6], marker=\".\", label = \"Clipping range 0 to 1\")\n",
    "plt.plot(eps[1:6], acc_modified[1:6], marker=\".\", label = \"Clipping function\")\n",
    "plt.legend(loc=\"upper right\")\n",
    "plt.xticks(np.arange(0, 0.25, step=0.05))\n",
    "plt.ylim([0, 1])\n",
    "plt.ylabel(\"Accuracy\")\n",
    "plt.xlabel(\"epsilon\")\n",
    "plt.show()"
   ]
  }
 ],
 "metadata": {
  "kernelspec": {
   "display_name": "Python",
   "language": "python",
   "name": "python3"
  },
  "language_info": {
   "codemirror_mode": {
    "name": "ipython",
    "version": 3
   },
   "file_extension": ".py",
   "mimetype": "text/x-python",
   "name": "python",
   "nbconvert_exporter": "python",
   "pygments_lexer": "ipython3",
   "version": "3.8.10"
  }
 },
 "nbformat": 4,
 "nbformat_minor": 5
}
