{
 "cells": [
  {
   "cell_type": "markdown",
   "id": "80efbb5a-3940-48c9-b1af-8e0527648eaa",
   "metadata": {},
   "source": [
    "Import dependencies"
   ]
  },
  {
   "cell_type": "code",
   "execution_count": 1,
   "id": "b2978a64-fd3b-4143-aee3-350daf2a550b",
   "metadata": {},
   "outputs": [
    {
     "name": "stderr",
     "output_type": "stream",
     "text": [
      "2023-02-01 15:21:05.061838: I tensorflow/core/platform/cpu_feature_guard.cc:193] This TensorFlow binary is optimized with oneAPI Deep Neural Network Library (oneDNN) to use the following CPU instructions in performance-critical operations:  AVX2 AVX512F AVX512_VNNI FMA\n",
      "To enable them in other operations, rebuild TensorFlow with the appropriate compiler flags.\n",
      "2023-02-01 15:21:05.186466: I tensorflow/core/util/port.cc:104] oneDNN custom operations are on. You may see slightly different numerical results due to floating-point round-off errors from different computation orders. To turn them off, set the environment variable `TF_ENABLE_ONEDNN_OPTS=0`.\n",
      "2023-02-01 15:21:05.839773: W tensorflow/compiler/xla/stream_executor/platform/default/dso_loader.cc:64] Could not load dynamic library 'libnvinfer.so.7'; dlerror: libnvinfer.so.7: cannot open shared object file: No such file or directory; LD_LIBRARY_PATH: /usr/local/lib:/usr/local/nvidia/lib:/usr/local/nvidia/lib64\n",
      "2023-02-01 15:21:05.839866: W tensorflow/compiler/xla/stream_executor/platform/default/dso_loader.cc:64] Could not load dynamic library 'libnvinfer_plugin.so.7'; dlerror: libnvinfer_plugin.so.7: cannot open shared object file: No such file or directory; LD_LIBRARY_PATH: /usr/local/lib:/usr/local/nvidia/lib:/usr/local/nvidia/lib64\n",
      "2023-02-01 15:21:05.839871: W tensorflow/compiler/tf2tensorrt/utils/py_utils.cc:38] TF-TRT Warning: Cannot dlopen some TensorRT libraries. If you would like to use Nvidia GPU with TensorRT, please make sure the missing libraries mentioned above are installed properly.\n"
     ]
    }
   ],
   "source": [
    "import os\n",
    "import numpy as np\n",
    "import seaborn as sns\n",
    "import pandas as pd\n",
    "import tensorflow as tf\n",
    "from sklearn.metrics import confusion_matrix\n",
    "import matplotlib.pyplot as plt\n",
    "from sklearn.model_selection import train_test_split\n",
    "from sklearn.metrics import classification_report\n",
    "from tensorflow.python import keras\n",
    "from tensorflow.python.keras.models import Sequential\n",
    "from keras.layers import Dense, Conv2D, Activation, MaxPool2D, Flatten, Dropout, BatchNormalization\n",
    "from keras.optimizers import RMSprop,Adam\n",
    "from tensorflow.keras.preprocessing.image import ImageDataGenerator\n",
    "import visualkeras\n",
    "from keras.utils import plot_model\n",
    "import math\n",
    "from keras.optimizers import RMSprop"
   ]
  },
  {
   "cell_type": "markdown",
   "id": "2110d659-10a2-4c42-8d48-d7eaf9e64442",
   "metadata": {},
   "source": [
    "Set parameters and load the data"
   ]
  },
  {
   "cell_type": "code",
   "execution_count": 2,
   "id": "b09b214a-0a5f-4171-bcd4-dd6d65a6c159",
   "metadata": {},
   "outputs": [],
   "source": [
    "Img_shape = 28\n",
    "Num_classes = 10\n",
    "test_size = 0.25\n",
    "random_state = 0\n",
    "No_epochs = 100\n",
    "Batch_size = 128"
   ]
  },
  {
   "cell_type": "code",
   "execution_count": 3,
   "id": "b70ce184-1535-4cc7-9309-d85af7ef9560",
   "metadata": {},
   "outputs": [],
   "source": [
    "train_dataset = pd.read_csv(\"fashion-mnist_train.csv\")\n",
    "test_dataset = pd.read_csv(\"fashion-mnist_test.csv\")\n",
    "class_names = ['T-shirt/top', 'Trouser', 'Pullover', 'Dress', 'Coat',\n",
    "               'Sandal',      'Shirt',   'Sneaker',  'Bag',   'Ankle boot']"
   ]
  },
  {
   "cell_type": "code",
   "execution_count": 4,
   "id": "a98dcebc-2484-4068-8b64-63282652e070",
   "metadata": {},
   "outputs": [],
   "source": [
    "def data_preprocessing(raw):\n",
    "    label = tf.keras.utils.to_categorical(raw.label, 10)\n",
    "    num_images = raw.shape[0]\n",
    "    x_as_array = raw.values[:,1:]\n",
    "    x_shaped_array = x_as_array.reshape(num_images, 28, 28, 1)\n",
    "    image = x_shaped_array / 255\n",
    "    return image, label\n",
    "\n",
    "X, y = data_preprocessing(train_dataset)\n",
    "X_test, y_test = data_preprocessing(test_dataset)\n",
    "\n",
    "X_train, X_val, y_train, y_val = train_test_split(X, y, test_size=test_size, random_state=random_state)"
   ]
  },
  {
   "cell_type": "markdown",
   "id": "aa4579cd-a40d-49ab-a1b1-c20ad4fa35d6",
   "metadata": {},
   "source": [
    "Initialize teacher model"
   ]
  },
  {
   "cell_type": "code",
   "execution_count": 5,
   "id": "f8e330dd-4d40-474e-ac50-f69b24b9a07d",
   "metadata": {},
   "outputs": [
    {
     "name": "stderr",
     "output_type": "stream",
     "text": [
      "2023-02-01 15:21:12.747349: I tensorflow/core/common_runtime/gpu/gpu_device.cc:1613] Created device /job:localhost/replica:0/task:0/device:GPU:0 with 13582 MB memory:  -> device: 0, name: Tesla T4, pci bus id: 0000:3b:00.0, compute capability: 7.5\n",
      "2023-02-01 15:21:12.751621: I tensorflow/core/common_runtime/gpu/gpu_device.cc:1613] Created device /job:localhost/replica:0/task:0/device:GPU:1 with 1057 MB memory:  -> device: 1, name: Tesla T4, pci bus id: 0000:d8:00.0, compute capability: 7.5\n"
     ]
    }
   ],
   "source": [
    "teacher_model = tf.keras.models.load_model('init_model')"
   ]
  },
  {
   "cell_type": "markdown",
   "id": "7a33452b-a823-4dff-8f6e-7f9e9a9c0f7f",
   "metadata": {},
   "source": [
    "Teacher code has the same architecture as the initial mode, here the code is just for the comparison with the student)"
   ]
  },
  {
   "cell_type": "code",
   "execution_count": 6,
   "id": "dff9df9b-53fb-4291-8241-0ec498b1397c",
   "metadata": {},
   "outputs": [],
   "source": [
    "teacher_model = tf.keras.Sequential()\n",
    "\n",
    "teacher_model.add(Conv2D(32, 3, padding='same', activation='relu',kernel_initializer='he_normal', input_shape=(28,28, 1)))\n",
    "teacher_model.add(tf.keras.layers.MaxPooling2D(pool_size=(2, 2)))\n",
    "\n",
    "\n",
    "teacher_model.add(Conv2D(64, 3, padding='same', activation='relu'))\n",
    "teacher_model.add(tf.keras.layers.MaxPooling2D(pool_size=(2, 2)))\n",
    "\n",
    "teacher_model.add(Dropout(0.3))\n",
    "teacher_model.add(BatchNormalization())\n",
    "teacher_model.add(Conv2D(128, 3, padding='same', activation='relu'))\n",
    "teacher_model.add(Conv2D(128, 3, padding='same', activation='relu'))\n",
    "teacher_model.add(tf.keras.layers.MaxPooling2D(pool_size=(2, 2)))\n",
    "\n",
    "teacher_model.add(Dropout(0.4))\n",
    "teacher_model.add(Flatten())\n",
    "teacher_model.add(BatchNormalization())\n",
    "teacher_model.add(Dense(512, activation='relu'))\n",
    "\n",
    "teacher_model.add(Dropout(0.25))\n",
    "teacher_model.add(Dense(10, activation='softmax'))"
   ]
  },
  {
   "cell_type": "code",
   "execution_count": 7,
   "id": "6d621b28-0b6c-4657-9cbf-ff4808e8fb4d",
   "metadata": {},
   "outputs": [
    {
     "name": "stderr",
     "output_type": "stream",
     "text": [
      "2023-02-01 15:21:14.863868: I tensorflow/compiler/xla/stream_executor/cuda/cuda_dnn.cc:428] Loaded cuDNN version 8400\n"
     ]
    },
    {
     "name": "stdout",
     "output_type": "stream",
     "text": [
      "313/313 [==============================] - 4s 6ms/step - loss: 0.2374 - accuracy: 0.9376\n",
      "Test loss: 0.237412229180336\n",
      "Test accuracy: 0.9376000165939331\n"
     ]
    }
   ],
   "source": [
    "score = teacher_model.evaluate(X_test, y_test, steps = math.ceil(10000/32))\n",
    "print('Test loss:', score[0])\n",
    "print('Test accuracy:', score[1])"
   ]
  },
  {
   "cell_type": "markdown",
   "id": "bf0c9a4b-1720-46c0-896d-41f72a1c8867",
   "metadata": {},
   "source": [
    "Initialize the student - the student architecture is different from the teacher"
   ]
  },
  {
   "cell_type": "code",
   "execution_count": 12,
   "id": "ae9e7c0d-8c87-4fd7-962f-addf91781a6c",
   "metadata": {},
   "outputs": [],
   "source": [
    "# student_model = tf.keras.Sequential()\n",
    "\n",
    "# student_model.add(Conv2D(32, 3, padding='same', activation='relu',kernel_initializer='he_normal', input_shape=(28,28, 1)))\n",
    "# student_model.add(tf.keras.layers.MaxPooling2D(pool_size=(2, 2)))\n",
    "\n",
    "\n",
    "# student_model.add(Conv2D(64, 3, padding='same', activation='relu'))\n",
    "# student_model.add(tf.keras.layers.MaxPooling2D(pool_size=(2, 2)))\n",
    "\n",
    "# student_model.add(Dropout(0.3))\n",
    "# student_model.add(BatchNormalization())\n",
    "# student_model.add(Conv2D(128, 3, padding='same', activation='relu'))\n",
    "# student_model.add(Conv2D(128, 3, padding='same', activation='relu'))\n",
    "# student_model.add(tf.keras.layers.MaxPooling2D(pool_size=(2, 2)))\n",
    "\n",
    "# student_model.add(Dropout(0.4))\n",
    "# student_model.add(Flatten())\n",
    "# student_model.add(BatchNormalization())\n",
    "# student_model.add(Dense(512, activation='relu'))\n",
    "\n",
    "# student_model.add(Dropout(0.25))\n",
    "# student_model.add(Dense(10, activation='softmax'))"
   ]
  },
  {
   "cell_type": "code",
   "execution_count": 46,
   "id": "8e420123-a6f5-4b3c-8730-e47bfc04885d",
   "metadata": {},
   "outputs": [],
   "source": [
    "student_model = tf.keras.Sequential()\n",
    "\n",
    "student_model.add(Conv2D(32, 3, padding='same', activation='relu', kernel_initializer='he_normal', input_shape=(28,28, 1)))\n",
    "student_model.add(BatchNormalization())\n",
    "student_model.add(Conv2D(32, 3, padding='same', activation='relu'))\n",
    "student_model.add(BatchNormalization())\n",
    "student_model.add(tf.keras.layers.MaxPooling2D(pool_size=(2, 2)))\n",
    "student_model.add(Dropout(0.5))\n",
    "\n",
    "student_model.add(Conv2D(64, 3, padding='same', activation='relu'))\n",
    "student_model.add(BatchNormalization())\n",
    "student_model.add(Conv2D(64, 3, padding='same', activation='relu'))\n",
    "student_model.add(BatchNormalization())\n",
    "student_model.add(tf.keras.layers.MaxPooling2D(pool_size=(2, 2)))\n",
    "student_model.add(Dropout(0.5))\n",
    "\n",
    "student_model.add(Flatten())\n",
    "student_model.add(Dense(512, activation='relu'))\n",
    "student_model.add(Dropout(0.5))\n",
    "student_model.add(Dense(10, activation='softmax'))"
   ]
  },
  {
   "cell_type": "code",
   "execution_count": 47,
   "id": "d3144334-7a7a-442e-b228-d6380625dcc8",
   "metadata": {},
   "outputs": [],
   "source": [
    "student_model.compile(optimizer='adam', loss='categorical_crossentropy', metrics=['accuracy'])\n"
   ]
  },
  {
   "cell_type": "code",
   "execution_count": 48,
   "id": "c47491bd-6c74-4b61-a59e-08ed4a7bae03",
   "metadata": {},
   "outputs": [
    {
     "name": "stdout",
     "output_type": "stream",
     "text": [
      "1407/1407 [==============================] - 6s 4ms/step\n"
     ]
    }
   ],
   "source": [
    "soft_labels = teacher_model.predict(X_train)"
   ]
  },
  {
   "cell_type": "code",
   "execution_count": null,
   "id": "2882a3bd-305f-4b6f-b43f-acaf6074032a",
   "metadata": {},
   "outputs": [],
   "source": [
    "student_model.fit(X_train, soft_labels,\n",
    "                  batch_size=Batch_size,\n",
    "                  epochs=No_epochs,\n",
    "                  verbose=1,\n",
    "                  validation_data=(X_val, y_val))\n"
   ]
  },
  {
   "cell_type": "code",
   "execution_count": 66,
   "id": "2861b970-be3b-446b-a16f-47b98b82d0fe",
   "metadata": {},
   "outputs": [
    {
     "name": "stderr",
     "output_type": "stream",
     "text": [
      "WARNING:absl:Found untraced functions such as _jit_compiled_convolution_op, _jit_compiled_convolution_op, _jit_compiled_convolution_op, _jit_compiled_convolution_op while saving (showing 4 of 4). These functions will not be directly callable after loading.\n"
     ]
    },
    {
     "name": "stdout",
     "output_type": "stream",
     "text": [
      "INFO:tensorflow:Assets written to: stud_model_diff_from_teacher/assets\n"
     ]
    },
    {
     "name": "stderr",
     "output_type": "stream",
     "text": [
      "INFO:tensorflow:Assets written to: stud_model_diff_from_teacher/assets\n"
     ]
    }
   ],
   "source": [
    "student_model.save('stud_model_diff_from_teacher')"
   ]
  },
  {
   "cell_type": "code",
   "execution_count": 121,
   "id": "bbffeea5-6380-4237-af6e-4c27e7058abb",
   "metadata": {},
   "outputs": [],
   "source": [
    "student_model_same = tf.keras.models.load_model('stud_model_same_as_teacher')"
   ]
  },
  {
   "cell_type": "markdown",
   "id": "31981104-81e1-4715-9e42-82921bb56536",
   "metadata": {},
   "source": [
    "Initial accuracy for both models"
   ]
  },
  {
   "cell_type": "code",
   "execution_count": 67,
   "id": "db6baf26-42e6-494d-8a14-f1c3297e12a0",
   "metadata": {},
   "outputs": [
    {
     "name": "stdout",
     "output_type": "stream",
     "text": [
      "313/313 [==============================] - 2s 6ms/step - loss: 0.2374 - accuracy: 0.9376\n",
      "Test loss: 0.237412229180336\n",
      "Test accuracy: 0.9376000165939331\n"
     ]
    }
   ],
   "source": [
    "score = teacher_model.evaluate(X_test, y_test, steps = math.ceil(10000/32))\n",
    "print('Test loss:', score[0])\n",
    "print('Test accuracy:', score[1])"
   ]
  },
  {
   "cell_type": "code",
   "execution_count": 120,
   "id": "de5af41a-fde0-4e10-8462-c70070d923fa",
   "metadata": {},
   "outputs": [
    {
     "name": "stdout",
     "output_type": "stream",
     "text": [
      "313/313 [==============================] - 2s 6ms/step - loss: 0.1870 - accuracy: 0.9368\n",
      "Test loss: 0.1869979053735733\n",
      "Test accuracy: 0.9368000030517578\n"
     ]
    }
   ],
   "source": [
    "score = student_model_same.evaluate(X_test, y_test, steps = math.ceil(10000/32))\n",
    "print('Test loss:', score[0])\n",
    "print('Test accuracy:', score[1])"
   ]
  },
  {
   "cell_type": "markdown",
   "id": "ebc34c3f-8a97-4d6a-b252-2ddcc7aa7792",
   "metadata": {},
   "source": [
    "Performance against the adversarial attacks"
   ]
  },
  {
   "cell_type": "code",
   "execution_count": 132,
   "id": "36ee046b-4494-4e9e-a056-e648499e865d",
   "metadata": {},
   "outputs": [],
   "source": [
    "#load the attack\n",
    "import pickle\n",
    "file = open('image_iterate_list_one', 'rb')\n",
    "X_list = pickle.load(file)\n",
    "file.close()"
   ]
  },
  {
   "cell_type": "code",
   "execution_count": 133,
   "id": "c37e8e5d-2790-487e-a784-efc2bb1a3787",
   "metadata": {},
   "outputs": [
    {
     "name": "stdout",
     "output_type": "stream",
     "text": [
      "313/313 [==============================] - 2s 6ms/step - loss: 0.2299 - accuracy: 0.9378\n",
      "313/313 [==============================] - 2s 6ms/step - loss: 0.1647 - accuracy: 0.9445\n",
      "313/313 [==============================] - 2s 6ms/step - loss: 0.1929 - accuracy: 0.9339\n",
      "313/313 [==============================] - 2s 6ms/step - loss: 0.3071 - accuracy: 0.9059\n",
      "313/313 [==============================] - 2s 6ms/step - loss: 0.2050 - accuracy: 0.9351\n",
      "313/313 [==============================] - 2s 6ms/step - loss: 0.3190 - accuracy: 0.8981\n",
      "313/313 [==============================] - 2s 6ms/step - loss: 0.4918 - accuracy: 0.8467\n",
      "313/313 [==============================] - 2s 6ms/step - loss: 0.2889 - accuracy: 0.9114\n",
      "313/313 [==============================] - 2s 6ms/step - loss: 0.4968 - accuracy: 0.8422\n",
      "313/313 [==============================] - 2s 6ms/step - loss: 0.9162 - accuracy: 0.7549\n",
      "313/313 [==============================] - 2s 6ms/step - loss: 0.4295 - accuracy: 0.8756\n",
      "313/313 [==============================] - 2s 6ms/step - loss: 0.6690 - accuracy: 0.7818\n",
      "313/313 [==============================] - 2s 6ms/step - loss: 1.5245 - accuracy: 0.6694\n",
      "313/313 [==============================] - 2s 6ms/step - loss: 0.6125 - accuracy: 0.8309\n",
      "313/313 [==============================] - 2s 6ms/step - loss: 0.8477 - accuracy: 0.7176\n",
      "313/313 [==============================] - 2s 6ms/step - loss: 2.2290 - accuracy: 0.6062\n",
      "313/313 [==============================] - 2s 6ms/step - loss: 0.8246 - accuracy: 0.7884\n",
      "313/313 [==============================] - 2s 6ms/step - loss: 1.0556 - accuracy: 0.6462\n"
     ]
    }
   ],
   "source": [
    "loss_teacher = []\n",
    "acc_teacher = []\n",
    "loss_student = []\n",
    "acc_student = []\n",
    "loss_student_same = []\n",
    "\n",
    "acc_student_same = []\n",
    "eps = [0.001,0.01,0.05, 0.1, 0.15, 0.2]\n",
    "# eps = [0.0001, 0.001]\n",
    "\n",
    "for e in range(len(eps)): \n",
    "    img_new = np.concatenate(X_list[e], axis=0)\n",
    "    score_teacher = teacher_model.evaluate(img_new, y_test, steps=math.ceil(10000/32))\n",
    "    score_student = student_model.evaluate(img_new, y_test, steps=math.ceil(10000/32))\n",
    "    score_student_same = student_model_same.evaluate(img_new, y_test, steps=math.ceil(10000/32))\n",
    "    loss_teacher.append(score_teacher[0])\n",
    "    acc_teacher.append(score_teacher[1])\n",
    "    loss_student.append(score_student[0])\n",
    "    acc_student.append(score_student[1])\n",
    "    loss_student_same.append(score_student_same[0])\n",
    "    acc_student_same.append(score_student_same[1])"
   ]
  },
  {
   "cell_type": "code",
   "execution_count": 134,
   "id": "e870e9aa-b098-4438-9c0c-8997a8ce97d1",
   "metadata": {},
   "outputs": [],
   "source": [
    "eps = [0.01,0.05, 0.1, 0.15, 0.2]\n"
   ]
  },
  {
   "cell_type": "code",
   "execution_count": 137,
   "id": "61d795c9-edd2-4f0e-b84f-47a2fec5b058",
   "metadata": {},
   "outputs": [
    {
     "data": {
      "image/png": "[encoded data removed]",
      "text/plain": [
       "<Figure size 640x480 with 1 Axes>"
      ]
     },
     "metadata": {},
     "output_type": "display_data"
    }
   ],
   "source": [
    "plt.plot(eps, loss_teacher[1:], marker=\".\", label = \"Teacher\")\n",
    "plt.plot(eps, loss_student[1:], marker=\".\", label = \"Different Student\")\n",
    "plt.plot(eps, loss_student_same[1:], marker=\".\", label = \"Identical Student\")\n",
    "plt.legend(loc=\"upper left\")\n",
    "plt.ylabel(\"FGSM\")\n",
    "plt.xticks(np.arange(0, 0.25, step=0.05))\n",
    "plt.show()"
   ]
  },
  {
   "cell_type": "code",
   "execution_count": 138,
   "id": "f76e90a4-7e1e-494c-8dfe-bd1c0b5cb175",
   "metadata": {},
   "outputs": [
    {
     "data": {
      "image/png": "[encoded data removed]",
      "text/plain": [
       "<Figure size 640x480 with 1 Axes>"
      ]
     },
     "metadata": {},
     "output_type": "display_data"
    }
   ],
   "source": [
    "plt.plot(eps, acc_teacher[1:], marker=\".\", label = \"Teacher\")\n",
    "plt.plot(eps, acc_student[1:], marker=\".\", label = \"Different Student\")\n",
    "plt.plot(eps, acc_student_same[1:], marker=\".\", label = \"Identical Student\")\n",
    "plt.legend(loc=\"upper right\")\n",
    "plt.ylim([0, 1])\n",
    "plt.xticks(np.arange(0, 0.25, step=0.05))\n",
    "plt.show()"
   ]
  }
 ],
 "metadata": {
  "kernelspec": {
   "display_name": "Python",
   "language": "python",
   "name": "python3"
  },
  "language_info": {
   "codemirror_mode": {
    "name": "ipython",
    "version": 3
   },
   "file_extension": ".py",
   "mimetype": "text/x-python",
   "name": "python",
   "nbconvert_exporter": "python",
   "pygments_lexer": "ipython3",
   "version": "3.8.10"
  }
 },
 "nbformat": 4,
 "nbformat_minor": 5
}
