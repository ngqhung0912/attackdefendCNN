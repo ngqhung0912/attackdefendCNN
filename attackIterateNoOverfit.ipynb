{
 "cells": [
  {
   "cell_type": "markdown",
   "id": "881f7aa3-6ceb-4c6a-b446-950a24d29c86",
   "metadata": {},
   "source": [
    "Import dependencies"
   ]
  },
  {
   "cell_type": "code",
   "execution_count": 1,
   "id": "f6658f4a-ff51-4d42-9fe8-7a17460b6968",
   "metadata": {},
   "outputs": [
    {
     "name": "stderr",
     "output_type": "stream",
     "text": [
      "2023-02-01 21:55:55.698398: I tensorflow/core/platform/cpu_feature_guard.cc:193] This TensorFlow binary is optimized with oneAPI Deep Neural Network Library (oneDNN) to use the following CPU instructions in performance-critical operations:  AVX2 AVX512F AVX512_VNNI FMA\n",
      "To enable them in other operations, rebuild TensorFlow with the appropriate compiler flags.\n",
      "2023-02-01 21:55:55.818706: I tensorflow/core/util/port.cc:104] oneDNN custom operations are on. You may see slightly different numerical results due to floating-point round-off errors from different computation orders. To turn them off, set the environment variable `TF_ENABLE_ONEDNN_OPTS=0`.\n",
      "2023-02-01 21:55:56.422317: W tensorflow/compiler/xla/stream_executor/platform/default/dso_loader.cc:64] Could not load dynamic library 'libnvinfer.so.7'; dlerror: libnvinfer.so.7: cannot open shared object file: No such file or directory; LD_LIBRARY_PATH: /usr/local/lib:/usr/local/nvidia/lib:/usr/local/nvidia/lib64\n",
      "2023-02-01 21:55:56.422388: W tensorflow/compiler/xla/stream_executor/platform/default/dso_loader.cc:64] Could not load dynamic library 'libnvinfer_plugin.so.7'; dlerror: libnvinfer_plugin.so.7: cannot open shared object file: No such file or directory; LD_LIBRARY_PATH: /usr/local/lib:/usr/local/nvidia/lib:/usr/local/nvidia/lib64\n",
      "2023-02-01 21:55:56.422394: W tensorflow/compiler/tf2tensorrt/utils/py_utils.cc:38] TF-TRT Warning: Cannot dlopen some TensorRT libraries. If you would like to use Nvidia GPU with TensorRT, please make sure the missing libraries mentioned above are installed properly.\n"
     ]
    }
   ],
   "source": [
    "import os\n",
    "import numpy as np\n",
    "import seaborn as sns\n",
    "import pandas as pd\n",
    "import tensorflow as tf\n",
    "from sklearn.metrics import confusion_matrix\n",
    "import matplotlib.pyplot as plt\n",
    "from sklearn.model_selection import train_test_split\n",
    "from sklearn.metrics import classification_report\n",
    "from tensorflow.python import keras\n",
    "from tensorflow.python.keras.models import Sequential\n",
    "from keras.layers import Dense, Conv2D, Activation, MaxPool2D, Flatten, Dropout, BatchNormalization\n",
    "from keras.optimizers import RMSprop,Adam\n",
    "from tensorflow.keras.preprocessing.image import ImageDataGenerator\n",
    "import visualkeras\n",
    "from keras.utils import plot_model\n",
    "import math\n",
    "from keras.optimizers import RMSprop\n",
    "import pickle\n"
   ]
  },
  {
   "cell_type": "markdown",
   "id": "f1d1e7ab-2a7a-42d7-8dbb-3244efd3c2b1",
   "metadata": {},
   "source": [
    "Load the model and prepare the data"
   ]
  },
  {
   "cell_type": "code",
   "execution_count": 2,
   "id": "668eaad4-7d61-46ce-b26b-90b261442f05",
   "metadata": {},
   "outputs": [
    {
     "name": "stderr",
     "output_type": "stream",
     "text": [
      "2023-02-01 21:56:05.166269: I tensorflow/core/common_runtime/gpu/gpu_device.cc:1613] Created device /job:localhost/replica:0/task:0/device:GPU:0 with 13582 MB memory:  -> device: 0, name: Tesla T4, pci bus id: 0000:3b:00.0, compute capability: 7.5\n",
      "2023-02-01 21:56:05.168244: I tensorflow/core/common_runtime/gpu/gpu_device.cc:1613] Created device /job:localhost/replica:0/task:0/device:GPU:1 with 1007 MB memory:  -> device: 1, name: Tesla T4, pci bus id: 0000:d8:00.0, compute capability: 7.5\n"
     ]
    }
   ],
   "source": [
    "model = tf.keras.models.load_model('init_model')"
   ]
  },
  {
   "cell_type": "code",
   "execution_count": 12,
   "id": "e3ae9674-8cb3-4926-ac7b-f996ae3b7026",
   "metadata": {},
   "outputs": [],
   "source": [
    "model_no_over = tf.keras.models.load_model('init_model_no_overfit')"
   ]
  },
  {
   "cell_type": "code",
   "execution_count": 4,
   "id": "d9e39d59-60c7-4bfa-9bad-e2517f998aa8",
   "metadata": {},
   "outputs": [],
   "source": [
    "loss_object = tf.keras.losses.CategoricalCrossentropy()\n",
    "\n",
    "def create_adversarial_pattern(input_image, input_label):\n",
    "  with tf.GradientTape() as tape:\n",
    "    tape.watch(input_image)\n",
    "    prediction = model(input_image)\n",
    "    loss = loss_object(input_label, prediction)\n",
    "\n",
    "  # Get the gradients of the loss w.r.t to the input image.\n",
    "  gradient = tape.gradient(loss, input_image)\n",
    "  # Get the sign of the gradients to create the perturbation\n",
    "  signed_grad = tf.sign(gradient)\n",
    "  return signed_grad\n",
    "\n"
   ]
  },
  {
   "cell_type": "code",
   "execution_count": 5,
   "id": "21fc7f76-9e44-414b-aea4-0e4a9cf024a7",
   "metadata": {},
   "outputs": [],
   "source": [
    "test_dataset = pd.read_csv(\"fashion-mnist_test.csv\")\n",
    "\n",
    "class_names = ['T-shirt/top', 'Trouser', 'Pullover', 'Dress', 'Coat',\n",
    "               'Sandal',      'Shirt',   'Sneaker',  'Bag',   'Ankle boot']\n",
    "\n",
    "def data_preprocessing(raw):\n",
    "    label = tf.keras.utils.to_categorical(raw.label, 10)\n",
    "    num_images = raw.shape[0]\n",
    "    x_as_array = raw.values[:,1:]\n",
    "    x_shaped_array = x_as_array.reshape(num_images, 28, 28, 1)\n",
    "    image = x_shaped_array / 255\n",
    "    return image, label\n",
    "\n",
    "X, y = data_preprocessing(test_dataset)\n",
    "X_img = X.reshape(X.shape[0], 28, 28, 1)"
   ]
  },
  {
   "cell_type": "code",
   "execution_count": 9,
   "id": "8d77734c-d6ef-4c4d-bff3-f5c970e85288",
   "metadata": {},
   "outputs": [
    {
     "name": "stdout",
     "output_type": "stream",
     "text": [
      "313/313 [==============================] - 2s 5ms/step\n"
     ]
    }
   ],
   "source": [
    "y_pred = model.predict(X)"
   ]
  },
  {
   "cell_type": "code",
   "execution_count": 13,
   "id": "7b817627-0832-4ac0-8730-52cb1cc460f5",
   "metadata": {},
   "outputs": [
    {
     "name": "stdout",
     "output_type": "stream",
     "text": [
      "313/313 [==============================] - 2s 5ms/step\n"
     ]
    }
   ],
   "source": [
    "y_pred_no_over = model_no_over.predict(X)"
   ]
  },
  {
   "cell_type": "code",
   "execution_count": 14,
   "id": "6be7c00a-952c-4f9f-870c-d0b42e1e6ecc",
   "metadata": {},
   "outputs": [],
   "source": [
    "label = tf.one_hot(0, y_pred.shape[-1])\n",
    "label = tf.reshape(label, (1, y_pred.shape[-1]))"
   ]
  },
  {
   "cell_type": "code",
   "execution_count": 15,
   "id": "0bfb5d22-8623-4343-8249-0bdbc2754611",
   "metadata": {},
   "outputs": [],
   "source": [
    "def display_images(image):\n",
    "  plt.figure()\n",
    "  plt.imshow(image*0.5+0.5, cmap = 'gray')\n",
    "  plt.show()"
   ]
  },
  {
   "cell_type": "markdown",
   "id": "2fb5071e-643f-4114-829c-f8569d97ab74",
   "metadata": {},
   "source": [
    "Convert images to tensors"
   ]
  },
  {
   "cell_type": "code",
   "execution_count": 16,
   "id": "6c651391-af94-4d97-8d6d-c0c730e2d112",
   "metadata": {},
   "outputs": [],
   "source": [
    "X_img_reshape = []\n",
    "for im in X_img:\n",
    "    im_res = im.reshape(1, 28, 28, 1)\n",
    "    im_ten = tf.convert_to_tensor(im_res)\n",
    "    X_img_reshape.append(im_ten)"
   ]
  },
  {
   "cell_type": "markdown",
   "id": "c601c6e3-7565-4d19-93aa-bab38c68b11a",
   "metadata": {},
   "source": [
    "For multiple epsilon values"
   ]
  },
  {
   "cell_type": "code",
   "execution_count": 24,
   "id": "5dec0dd1-3cda-4fd4-81d6-a71470e0cf4b",
   "metadata": {},
   "outputs": [],
   "source": [
    "loss_object = tf.keras.losses.CategoricalCrossentropy()\n",
    "\n",
    "def create_adversarial_pattern(input_image, input_label):\n",
    "  with tf.GradientTape() as tape:\n",
    "    tape.watch(input_image)\n",
    "    prediction = model_no_over(input_image)\n",
    "    loss = loss_object(input_label, prediction)\n",
    "\n",
    "  # Get the gradients of the loss w.r.t to the input image.\n",
    "  gradient = tape.gradient(loss, input_image)\n",
    "  # Get the sign of the gradients to create the perturbation\n",
    "  signed_grad = tf.sign(gradient)\n",
    "  return signed_grad\n"
   ]
  },
  {
   "cell_type": "code",
   "execution_count": 27,
   "id": "efeb4231-8bee-4c0d-9eb2-d76ec964f6f8",
   "metadata": {},
   "outputs": [
    {
     "name": "stdout",
     "output_type": "stream",
     "text": [
      "(1, 28, 28, 1)\n",
      "0.01\n",
      "0.05\n",
      "0.1\n",
      "0.15\n",
      "0.2\n",
      "0.25\n"
     ]
    }
   ],
   "source": [
    "X_im_perturbate = X_img_reshape.copy()\n",
    "eps = [0.01,0.05, 0.1, 0.15, 0.2, 0.25]\n",
    "#eps = [0.0001, 0.001]\n",
    "\n",
    "print(X_im_perturbate[1].shape)\n",
    "perturbated_list = []\n",
    "\n",
    "for e in range(len(eps)):\n",
    "    for n in range(1):\n",
    "        for x in range(len(X_im_perturbate)):\n",
    "            im = X_im_perturbate[x]\n",
    "            perturbations = create_adversarial_pattern(im, label)\n",
    "            adv_x = im + eps[e]*perturbations\n",
    "            #clip function\n",
    "            adv_x = tf.clip_by_value(im + eps[e], tf.math.maximum(0, tf.math.maximum(im-eps[e], adv_x)), 1)\n",
    "            # clip from 0 to 1\n",
    "            #adv_x = tf.clip_by_value(adv_x, 0, 1)\n",
    "            X_im_perturbate[x] = adv_x\n",
    "    perturbated_list.append(X_im_perturbate)\n",
    "    print(eps[e])\n",
    "    X_im_perturbate = X_img_reshape.copy()\n",
    "    \n",
    "with open(\"image_iterate_one_eps_no_over\", \"wb\") as file:\n",
    "        pickle.dump(perturbated_list, file)"
   ]
  },
  {
   "cell_type": "code",
   "execution_count": 30,
   "id": "fc4d139d-ecb2-4c01-9a3e-ba22a2f5bfc1",
   "metadata": {},
   "outputs": [],
   "source": [
    "file = open('image_iterate_list_clipModified', 'rb')\n",
    "perturbated_list_modified = pickle.load(file)\n",
    "file.close()"
   ]
  },
  {
   "cell_type": "code",
   "execution_count": 31,
   "id": "21c9d8e4-0b56-4ebf-8ce2-25b57f5d78e2",
   "metadata": {},
   "outputs": [
    {
     "name": "stdout",
     "output_type": "stream",
     "text": [
      "313/313 [==============================] - 2s 6ms/step - loss: 0.2300 - accuracy: 0.9378\n",
      "313/313 [==============================] - 2s 6ms/step - loss: 0.1848 - accuracy: 0.9316\n",
      "313/313 [==============================] - 2s 6ms/step - loss: 0.5042 - accuracy: 0.8454\n",
      "313/313 [==============================] - 2s 6ms/step - loss: 0.2520 - accuracy: 0.9063\n",
      "313/313 [==============================] - 2s 6ms/step - loss: 10.2690 - accuracy: 0.4924\n",
      "313/313 [==============================] - 2s 6ms/step - loss: 0.4483 - accuracy: 0.8439\n",
      "313/313 [==============================] - 2s 6ms/step - loss: 32.7295 - accuracy: 0.3264\n",
      "313/313 [==============================] - 2s 6ms/step - loss: 0.8148 - accuracy: 0.7613\n",
      "313/313 [==============================] - 2s 6ms/step - loss: 55.5391 - accuracy: 0.2586\n",
      "313/313 [==============================] - 2s 6ms/step - loss: 1.2900 - accuracy: 0.6660\n",
      "313/313 [==============================] - 2s 6ms/step - loss: 93.8197 - accuracy: 0.1734\n",
      "313/313 [==============================] - 2s 6ms/step - loss: 1.8337 - accuracy: 0.5899\n"
     ]
    }
   ],
   "source": [
    "loss_modified_no_over = []\n",
    "acc_modified_no_over = []\n",
    "loss_modified = []\n",
    "acc_modified = []\n",
    "eps = [0.01,0.05, 0.1, 0.15, 0.2, 0.25]\n",
    "# eps = [0.0001, 0.001]\n",
    "for e in range(len(eps)): \n",
    "    img_modified = np.concatenate(perturbated_list[e], axis=0)\n",
    "    img = np.concatenate(perturbated_list_modified[e], axis=0)\n",
    "    score_modified = model.evaluate(img, y, steps=math.ceil(10000/32))\n",
    "    score_modified_no_over = model_no_over.evaluate(img_modified, y, steps=math.ceil(10000/32))\n",
    "    loss_modified.append(score_modified[0])\n",
    "    acc_modified.append(score_modified[1])\n",
    "    loss_modified_no_over.append(score_modified_no_over[0])\n",
    "    acc_modified_no_over.append(score_modified_no_over[1])"
   ]
  },
  {
   "cell_type": "code",
   "execution_count": 50,
   "id": "717011d9-a861-4fc7-a760-0ff2f3c92e3c",
   "metadata": {},
   "outputs": [],
   "source": [
    "eps = [0.01,0.05, 0.1, 0.15, 0.2, 0.25, 0.3, 0.5]\n"
   ]
  },
  {
   "cell_type": "markdown",
   "id": "dd34dbf1-50a3-468b-8f4b-dd232e3082d1",
   "metadata": {},
   "source": [
    "Visualizing the results"
   ]
  },
  {
   "cell_type": "code",
   "execution_count": 38,
   "id": "4f11ef87-9605-4360-9000-f3e1cacba5d1",
   "metadata": {},
   "outputs": [
    {
     "data": {
      "image/png": "[encoded data removed]",
      "text/plain": [
       "<Figure size 640x480 with 1 Axes>"
      ]
     },
     "metadata": {},
     "output_type": "display_data"
    }
   ],
   "source": [
    "plt.plot(eps[1:6], loss_modified[1:6], marker=\".\", label = \"Overfitted clipping function\")\n",
    "plt.plot(eps[1:6], loss_modified_no_over[1:6], marker=\".\", label = \"Clipping function\")\n",
    "\n",
    "plt.legend(loc=\"upper left\")\n",
    "plt.xticks(np.arange(0.05, 0.3, step=0.05))\n",
    "plt.ylabel(\"Loss\")\n",
    "plt.xlabel(\"epsilon\")\n",
    "plt.show()"
   ]
  },
  {
   "cell_type": "code",
   "execution_count": 36,
   "id": "ec72d4a0-bad1-4894-ba99-3e8a6737d624",
   "metadata": {},
   "outputs": [
    {
     "data": {
      "image/png": "[encoded data removed]",
      "text/plain": [
       "<Figure size 640x480 with 1 Axes>"
      ]
     },
     "metadata": {},
     "output_type": "display_data"
    }
   ],
   "source": [
    "plt.plot(eps[1:6], acc_modified[1:6], marker=\".\", label = \"Overfitted clipping function\")\n",
    "plt.plot(eps[1:6], acc_modified_no_over[1:6], marker=\".\", label = \"Clipping function\")\n",
    "\n",
    "plt.legend(loc=\"lower left\")\n",
    "plt.xticks(np.arange(0.05, 0.25, step=0.05))\n",
    "plt.ylabel(\"Accuracy\")\n",
    "plt.ylim([0, 1])\n",
    "plt.xlabel(\"epsilon\")\n",
    "plt.show()"
   ]
  }
 ],
 "metadata": {
  "kernelspec": {
   "display_name": "Python",
   "language": "python",
   "name": "python3"
  },
  "language_info": {
   "codemirror_mode": {
    "name": "ipython",
    "version": 3
   },
   "file_extension": ".py",
   "mimetype": "text/x-python",
   "name": "python",
   "nbconvert_exporter": "python",
   "pygments_lexer": "ipython3",
   "version": "3.8.10"
  }
 },
 "nbformat": 4,
 "nbformat_minor": 5
}
