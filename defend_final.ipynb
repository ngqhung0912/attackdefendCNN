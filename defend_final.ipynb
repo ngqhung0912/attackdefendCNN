{
 "cells": [
  {
   "cell_type": "markdown",
   "id": "660c3c1d-b866-4c42-b157-162c8dcbafc2",
   "metadata": {},
   "source": [
    "### Import neccessary libraries"
   ]
  },
  {
   "cell_type": "code",
   "execution_count": 1,
   "id": "d9f5cd28-de9d-4f2f-ab61-3b55a1f79d9e",
   "metadata": {},
   "outputs": [
    {
     "name": "stderr",
     "output_type": "stream",
     "text": [
      "2023-02-01 11:36:30.764851: I tensorflow/core/platform/cpu_feature_guard.cc:193] This TensorFlow binary is optimized with oneAPI Deep Neural Network Library (oneDNN) to use the following CPU instructions in performance-critical operations:  AVX2 AVX512F AVX512_VNNI FMA\n",
      "To enable them in other operations, rebuild TensorFlow with the appropriate compiler flags.\n",
      "2023-02-01 11:36:30.879324: I tensorflow/core/util/port.cc:104] oneDNN custom operations are on. You may see slightly different numerical results due to floating-point round-off errors from different computation orders. To turn them off, set the environment variable `TF_ENABLE_ONEDNN_OPTS=0`.\n",
      "2023-02-01 11:36:31.429452: W tensorflow/compiler/xla/stream_executor/platform/default/dso_loader.cc:64] Could not load dynamic library 'libnvinfer.so.7'; dlerror: libnvinfer.so.7: cannot open shared object file: No such file or directory; LD_LIBRARY_PATH: /usr/local/lib:/usr/local/nvidia/lib:/usr/local/nvidia/lib64\n",
      "2023-02-01 11:36:31.429512: W tensorflow/compiler/xla/stream_executor/platform/default/dso_loader.cc:64] Could not load dynamic library 'libnvinfer_plugin.so.7'; dlerror: libnvinfer_plugin.so.7: cannot open shared object file: No such file or directory; LD_LIBRARY_PATH: /usr/local/lib:/usr/local/nvidia/lib:/usr/local/nvidia/lib64\n",
      "2023-02-01 11:36:31.429516: W tensorflow/compiler/tf2tensorrt/utils/py_utils.cc:38] TF-TRT Warning: Cannot dlopen some TensorRT libraries. If you would like to use Nvidia GPU with TensorRT, please make sure the missing libraries mentioned above are installed properly.\n",
      "2023-02-01 11:36:36.465790: I tensorflow/core/common_runtime/gpu/gpu_device.cc:1613] Created device /job:localhost/replica:0/task:0/device:GPU:0 with 8066 MB memory:  -> device: 0, name: NVIDIA A16, pci bus id: 0000:1b:00.0, compute capability: 8.6\n",
      "2023-02-01 11:36:36.467837: I tensorflow/core/common_runtime/gpu/gpu_device.cc:1613] Created device /job:localhost/replica:0/task:0/device:GPU:1 with 45 MB memory:  -> device: 1, name: NVIDIA A16, pci bus id: 0000:1c:00.0, compute capability: 8.6\n",
      "2023-02-01 11:36:36.469056: I tensorflow/core/common_runtime/gpu/gpu_device.cc:1613] Created device /job:localhost/replica:0/task:0/device:GPU:2 with 10092 MB memory:  -> device: 2, name: NVIDIA A16, pci bus id: 0000:1d:00.0, compute capability: 8.6\n",
      "2023-02-01 11:36:36.470315: I tensorflow/core/common_runtime/gpu/gpu_device.cc:1613] Created device /job:localhost/replica:0/task:0/device:GPU:3 with 10092 MB memory:  -> device: 3, name: NVIDIA A16, pci bus id: 0000:1e:00.0, compute capability: 8.6\n",
      "2023-02-01 11:36:36.471970: I tensorflow/core/common_runtime/gpu/gpu_device.cc:1613] Created device /job:localhost/replica:0/task:0/device:GPU:4 with 10092 MB memory:  -> device: 4, name: NVIDIA A16, pci bus id: 0000:ce:00.0, compute capability: 8.6\n",
      "2023-02-01 11:36:36.473233: I tensorflow/core/common_runtime/gpu/gpu_device.cc:1613] Created device /job:localhost/replica:0/task:0/device:GPU:5 with 13134 MB memory:  -> device: 5, name: NVIDIA A16, pci bus id: 0000:cf:00.0, compute capability: 8.6\n",
      "2023-02-01 11:36:36.474571: I tensorflow/core/common_runtime/gpu/gpu_device.cc:1613] Created device /job:localhost/replica:0/task:0/device:GPU:6 with 13134 MB memory:  -> device: 6, name: NVIDIA A16, pci bus id: 0000:d0:00.0, compute capability: 8.6\n",
      "2023-02-01 11:36:36.475841: I tensorflow/core/common_runtime/gpu/gpu_device.cc:1613] Created device /job:localhost/replica:0/task:0/device:GPU:7 with 13134 MB memory:  -> device: 7, name: NVIDIA A16, pci bus id: 0000:d1:00.0, compute capability: 8.6\n"
     ]
    }
   ],
   "source": [
    "import os\n",
    "import numpy as np\n",
    "import seaborn as sns\n",
    "import pandas as pd\n",
    "import tensorflow as tf\n",
    "from sklearn.metrics import confusion_matrix\n",
    "import matplotlib.pyplot as plt\n",
    "from sklearn.model_selection import train_test_split\n",
    "from sklearn.metrics import classification_report\n",
    "from tensorflow.python import keras\n",
    "from tensorflow.python.keras.models import Sequential\n",
    "from keras.layers import Dense, Conv2D, Activation, MaxPool2D, Flatten, Dropout, BatchNormalization, MaxPooling2D\n",
    "from keras.optimizers import RMSprop,Adam\n",
    "from tensorflow.keras.preprocessing.image import ImageDataGenerator\n",
    "import visualkeras\n",
    "from keras.utils import plot_model\n",
    "import math\n",
    "from keras.optimizers import RMSprop\n",
    "import tensorflow_addons as tfa\n",
    "import neural_structured_learning as nsl\n",
    "import os  \n",
    "import random\n",
    "os.environ['TF_CPP_MIN_LOG_LEVEL'] = '3'\n",
    "from tensorflow.compat.v1 import ConfigProto\n",
    "from tensorflow.compat.v1 import InteractiveSession\n",
    "config = ConfigProto()\n",
    "config.gpu_options.allow_growth = True\n",
    "session = InteractiveSession(config=config)\n"
   ]
  },
  {
   "cell_type": "markdown",
   "id": "d2547ef0-b756-4bf9-83f2-8b6e751da387",
   "metadata": {},
   "source": [
    "### 1. Load the dataset"
   ]
  },
  {
   "cell_type": "code",
   "execution_count": 2,
   "id": "caf76e42-3bb9-4175-90b6-c16c199c313a",
   "metadata": {},
   "outputs": [],
   "source": [
    "train_dataset = pd.read_csv(\"fashion-mnist_train.csv\") \n",
    "test_dataset = pd.read_csv(\"fashion-mnist_test.csv\")\n",
    "\n",
    "\n",
    "class_names = ['T-shirt/top', 'Trouser', 'Pullover', 'Dress', 'Coat',\n",
    "               'Sandal',      'Shirt',   'Sneaker',  'Bag',   'Ankle boot']\n",
    "\n",
    "def data_preprocessing(raw): \n",
    "    '''\n",
    "    Preprocess the data \n",
    "    @param raw: raw data, contains 785 columns (784 = 28x28 image, 1 label column). \n",
    "    @return image: the 28x28 image from the csv file \n",
    "    @return label: label of the image\n",
    "    '''\n",
    "    label = tf.keras.utils.to_categorical(raw.label, 10)\n",
    "    num_images = raw.shape[0]\n",
    "    x_as_array = raw.values[:,1:]\n",
    "    x_shaped_array = x_as_array.reshape(num_images, 28, 28, 1)\n",
    "    image = x_shaped_array / 255\n",
    "    return image, label\n",
    "\n",
    "X_train, y_train = data_preprocessing(train_dataset)\n",
    "X_test, y_test = data_preprocessing(test_dataset)\n",
    "X_train = X_train.reshape(X_train.shape[0], 28, 28, 1)\n",
    "X_test = X_test.reshape(X_test.shape[0], 28, 28, 1)"
   ]
  },
  {
   "cell_type": "markdown",
   "id": "5751d529-fae9-42f4-beb4-8aa14d3cb58f",
   "metadata": {},
   "source": [
    "### 2. Define helper functions"
   ]
  },
  {
   "cell_type": "code",
   "execution_count": 3,
   "id": "4440a289-2608-4068-bd47-d866db33112f",
   "metadata": {},
   "outputs": [],
   "source": [
    "def shuffling_data(x, y):\n",
    "    ''' \n",
    "    Shuffling two numpy arrays, preserve the linked charactersitics of both\n",
    "    @param x, y: the two array with same length \n",
    "    @return x, y shuffled in the same order\n",
    "    '''\n",
    "    assert x.shape[0] == y.shape[0]\n",
    "    p = np.random.permutation(x.shape[0])\n",
    "    return x[p], y[p]\n",
    "\n",
    "\n",
    "def display_images(image):\n",
    "    '''\n",
    "    display an image using matplotlib and greyscale. Use plt.show().\n",
    "    @param image to display\n",
    "    '''\n",
    "    plt.figure()\n",
    "    plt.imshow(image,cmap='gray')\n",
    "    plt.show()\n",
    "    \n",
    "    \n",
    "def generator(x, y, data_gen, subset):\n",
    "    ''' \n",
    "    generate the data using ImageDataGenerator, yield a dictionary  \n",
    "    as required by nsl's AdversarialRegularization model.  \n",
    "    Flow now with batch_size=128.\n",
    "    @param x: Image \n",
    "    @param y: label\n",
    "    @param data_gen: The ImageDataGenerator object from tfa addons.\n",
    "    @yield dict{feature, label}: Generated feature and label dictionary.\n",
    "    '''\n",
    "    data_gen.fit(x)\n",
    "    for x_batch, y_batch in data_gen.flow(x, y, batch_size=128, subset=subset):\n",
    "        yield {'feature': x_batch, 'label': y_batch}\n",
    "\n",
    "        \n",
    "def dump_pickle(file_name, stuff):\n",
    "    '''\n",
    "    dump resources to a file \n",
    "    '''\n",
    "    with open(file_name, \"wb\") as file:\n",
    "        pickle.dump(stuff, file)\n",
    "\n",
    "\n",
    "def print_examples(X_test, y_test, y_pred):\n",
    "    '''\n",
    "    print examples: currently set to print some examples that are the most confusing to model. \n",
    "    '''\n",
    "    labels = {0 : \"T-shirt/top\", 1: \"Trouser\", 2: \"Pullover\", 3: \"Dress\", 4: \"Coat\",\n",
    "          5: \"Sandal\", 6: \"Shirt\", 7: \"Sneaker\", 8: \"Bag\", 9: \"Ankle Boot\"}\n",
    "    X_test__ = X_test.reshape(X_test.shape[0], 28, 28)\n",
    "    idx_list = []\n",
    "    while len(idx_list) < 25:  \n",
    "        i = random.randint(0, 9999)\n",
    "        real_label = y_test[i].argmax()\n",
    "        pred_label = y_pred[i].argmax()\n",
    "        if pred_label != real_label and pred_label == 0 and real_label == 6 :\n",
    "            idx_list.append(i)\n",
    "\n",
    "    fig, axis = plt.subplots(5, 5, figsize=(16, 20))\n",
    "    for i, ax in enumerate(axis.flat):\n",
    "        ax.imshow(X_test__[idx_list[i]], cmap='gray')\n",
    "        ax.set(title = f\"Real Class: {labels[y_test[idx_list[i]].argmax()]}\\nPredict Class: {labels[y_pred[idx_list[i]].argmax()]}\\nNumber: {idx_list[i]}\")\n",
    "\n",
    "\n",
    "def confusion_matrix_plot(y_test, y_pred, title):\n",
    "    '''\n",
    "    Plot a confusion matrix between real and predicted class. \n",
    "    '''\n",
    "    y_pred_classes = np.argmax(y_pred, axis = 1)\n",
    "    y_true = np.argmax(y_test, axis = 1)\n",
    "    confusion_mtx = confusion_matrix(y_true, y_pred_classes) \n",
    "\n",
    "    f,ax = plt.subplots(figsize = (5,5))\n",
    "    sns.heatmap(confusion_mtx, annot=True, linewidths=0.1, cmap = \"gist_yarg_r\", linecolor=\"white\", fmt='.0f', ax=ax)\n",
    "    plt.xlabel(\"Predicted Label\")\n",
    "    plt.ylabel(\"True Label\")\n",
    "    plt.title(title)\n",
    "    plt.show()"
   ]
  },
  {
   "cell_type": "markdown",
   "id": "841a56cf-e649-4d95-b24d-e773f55b2615",
   "metadata": {},
   "source": [
    "### 3. Data Augmentation - Generate a blurred image dataset"
   ]
  },
  {
   "cell_type": "code",
   "execution_count": 4,
   "id": "5f62421a-3cfe-4672-9a2e-230a7e08e138",
   "metadata": {},
   "outputs": [
    {
     "name": "stderr",
     "output_type": "stream",
     "text": [
      "2023-02-01 11:36:40.233621: I tensorflow/core/common_runtime/gpu/gpu_device.cc:1613] Created device /job:localhost/replica:0/task:0/device:GPU:0 with 8066 MB memory:  -> device: 0, name: NVIDIA A16, pci bus id: 0000:1b:00.0, compute capability: 8.6\n",
      "2023-02-01 11:36:40.234330: I tensorflow/core/common_runtime/gpu/gpu_device.cc:1613] Created device /job:localhost/replica:0/task:0/device:GPU:1 with 45 MB memory:  -> device: 1, name: NVIDIA A16, pci bus id: 0000:1c:00.0, compute capability: 8.6\n",
      "2023-02-01 11:36:40.234995: I tensorflow/core/common_runtime/gpu/gpu_device.cc:1613] Created device /job:localhost/replica:0/task:0/device:GPU:2 with 10092 MB memory:  -> device: 2, name: NVIDIA A16, pci bus id: 0000:1d:00.0, compute capability: 8.6\n",
      "2023-02-01 11:36:40.235648: I tensorflow/core/common_runtime/gpu/gpu_device.cc:1613] Created device /job:localhost/replica:0/task:0/device:GPU:3 with 10092 MB memory:  -> device: 3, name: NVIDIA A16, pci bus id: 0000:1e:00.0, compute capability: 8.6\n",
      "2023-02-01 11:36:40.236311: I tensorflow/core/common_runtime/gpu/gpu_device.cc:1613] Created device /job:localhost/replica:0/task:0/device:GPU:4 with 10092 MB memory:  -> device: 4, name: NVIDIA A16, pci bus id: 0000:ce:00.0, compute capability: 8.6\n",
      "2023-02-01 11:36:40.236982: I tensorflow/core/common_runtime/gpu/gpu_device.cc:1613] Created device /job:localhost/replica:0/task:0/device:GPU:5 with 13134 MB memory:  -> device: 5, name: NVIDIA A16, pci bus id: 0000:cf:00.0, compute capability: 8.6\n",
      "2023-02-01 11:36:40.237895: I tensorflow/core/common_runtime/gpu/gpu_device.cc:1613] Created device /job:localhost/replica:0/task:0/device:GPU:6 with 13134 MB memory:  -> device: 6, name: NVIDIA A16, pci bus id: 0000:d0:00.0, compute capability: 8.6\n",
      "2023-02-01 11:36:40.238562: I tensorflow/core/common_runtime/gpu/gpu_device.cc:1613] Created device /job:localhost/replica:0/task:0/device:GPU:7 with 13134 MB memory:  -> device: 7, name: NVIDIA A16, pci bus id: 0000:d1:00.0, compute capability: 8.6\n",
      "2023-02-01 11:36:42.717992: I tensorflow/compiler/xla/stream_executor/cuda/cuda_dnn.cc:428] Loaded cuDNN version 8400\n"
     ]
    }
   ],
   "source": [
    "X_train, X_val, y_train, y_val = train_test_split(X_train, y_train, test_size=0.2, random_state=0)\n",
    "\n",
    "random_indices_train = np.random.choice(X_train.shape[0], size=20000, replace=False)\n",
    "random_indices_test = np.random.choice(X_test.shape[0], size=3000, replace=False)\n",
    "\n",
    "\n",
    "X_train_blur = tfa.image.gaussian_filter2d(X_train[random_indices_train], filter_shape=(2,2)).numpy()\n",
    "X_test_blur = tfa.image.gaussian_filter2d(X_test[random_indices_test], filter_shape=(2,2)).numpy()\n",
    "\n",
    "X_train_comby = np.concatenate((X_train, X_train_blur), axis=0)\n",
    "\n",
    "X_test_comby = np.concatenate((X_test, X_test_blur), axis=0)\n",
    "y_train_comby = np.concatenate((y_train, y_train[random_indices_train]), axis=0)\n",
    "y_test_comby = np.concatenate((y_test, y_test[random_indices_test]), axis=0)\n",
    "X_train_comby, y_train_comby = shuffling_data(X_train_comby, y_train_comby)"
   ]
  },
  {
   "cell_type": "markdown",
   "id": "8f5bb174-76fa-44f8-b426-3a4717f5947d",
   "metadata": {},
   "source": [
    "### 3. Data Augmentation - Using ImageDataGenerator from Tensorflow to augment the data: \n",
    "Additional images: Rotate, shift width, horizontal flip, height shift, and zoom range.\n",
    "Split a small subset for valitation purposes."
   ]
  },
  {
   "cell_type": "code",
   "execution_count": 5,
   "id": "d83243c3-056f-4c1f-91e6-94340adcb975",
   "metadata": {},
   "outputs": [],
   "source": [
    "data_augmentor = ImageDataGenerator(rotation_range = 90,\n",
    "                                    # width_shift_range=0.1,\n",
    "                                    # height_shift_range=0.1, \n",
    "                                    vertical_flip=True,\n",
    "                                    horizontal_flip=True)"
   ]
  },
  {
   "cell_type": "markdown",
   "id": "56da9d28-53cf-42da-861b-6bbfa3722a37",
   "metadata": {},
   "source": [
    "### 4. Load the initial model"
   ]
  },
  {
   "cell_type": "code",
   "execution_count": 6,
   "id": "3a5b2452-914b-4a2c-893e-5b6d7d9e7e6c",
   "metadata": {},
   "outputs": [],
   "source": [
    "model = tf.keras.models.load_model('initial_model')"
   ]
  },
  {
   "cell_type": "markdown",
   "id": "41635f3d-91e3-4e19-bcce-654f0870a843",
   "metadata": {},
   "source": [
    "### 5. Define Categorical CrossEntropy loss and Adam optimizer \n",
    "Hyperparameters: learning rate=0.001."
   ]
  },
  {
   "cell_type": "code",
   "execution_count": 7,
   "id": "b9be4b12-6a78-4597-9c95-cd7524f95b9e",
   "metadata": {},
   "outputs": [],
   "source": [
    "optimizer = Adam(learning_rate=0.001, beta_1=0.9, beta_2=0.999, epsilon=None, decay=0.0, amsgrad=False)"
   ]
  },
  {
   "cell_type": "markdown",
   "id": "027ed563-2b22-4ef2-83a0-e45ae81cc4db",
   "metadata": {},
   "source": [
    "### 6. Define callbacks: \n",
    "Callback_cc_loss: Stop training early if the categorical_crossentropy loss does not improve in 3 iterations.\n",
    "callback_adversarial_loss: Stop training early if the adversarial loss does not improve in 5 iterations."
   ]
  },
  {
   "cell_type": "code",
   "execution_count": 8,
   "id": "50763431-72c8-43b6-92ad-91d24c35baa2",
   "metadata": {},
   "outputs": [],
   "source": [
    "callback_loss = tf.keras.callbacks.EarlyStopping(monitor='loss', patience=5)\n",
    "callback_val_loss = tf.keras.callbacks.EarlyStopping(monitor='val_loss', patience=5)\n",
    "callback_adv_loss = tf.keras.callbacks.EarlyStopping(monitor='scaled_adversarial_loss', patience=5)"
   ]
  },
  {
   "cell_type": "markdown",
   "id": "24c974fb-854d-4397-8205-e784cec61fc4",
   "metadata": {},
   "source": [
    "### 7. Train the model with augmented data\n",
    "Train batch size: 128, validate on unaugmented data, epochs=50."
   ]
  },
  {
   "cell_type": "code",
   "execution_count": 11,
   "id": "a28d56f9-ff32-4c76-a207-fcc6f809d8a5",
   "metadata": {},
   "outputs": [
    {
     "name": "stdout",
     "output_type": "stream",
     "text": [
      "Epoch 1/50\n",
      "532/532 [==============================] - 23s 44ms/step - loss: 0.4827 - accuracy: 0.8252 - val_loss: 0.3173 - val_accuracy: 0.8882\n",
      "Epoch 2/50\n",
      "532/532 [==============================] - 23s 43ms/step - loss: 0.4769 - accuracy: 0.8282 - val_loss: 0.3351 - val_accuracy: 0.8781\n",
      "Epoch 3/50\n",
      "532/532 [==============================] - 23s 43ms/step - loss: 0.4700 - accuracy: 0.8309 - val_loss: 0.3245 - val_accuracy: 0.8826\n",
      "Epoch 4/50\n",
      "532/532 [==============================] - 23s 43ms/step - loss: 0.4711 - accuracy: 0.8306 - val_loss: 0.3124 - val_accuracy: 0.8904\n",
      "Epoch 5/50\n",
      "532/532 [==============================] - 23s 44ms/step - loss: 0.4672 - accuracy: 0.8326 - val_loss: 0.3051 - val_accuracy: 0.8895\n",
      "Epoch 6/50\n",
      "532/532 [==============================] - 22s 42ms/step - loss: 0.4628 - accuracy: 0.8334 - val_loss: 0.3037 - val_accuracy: 0.8958\n",
      "Epoch 7/50\n",
      "532/532 [==============================] - 23s 43ms/step - loss: 0.4554 - accuracy: 0.8365 - val_loss: 0.3083 - val_accuracy: 0.8950\n",
      "Epoch 8/50\n",
      "532/532 [==============================] - 23s 43ms/step - loss: 0.4569 - accuracy: 0.8373 - val_loss: 0.3094 - val_accuracy: 0.8892\n",
      "Epoch 9/50\n",
      "532/532 [==============================] - 23s 43ms/step - loss: 0.4513 - accuracy: 0.8376 - val_loss: 0.3092 - val_accuracy: 0.8891\n",
      "Epoch 10/50\n",
      "532/532 [==============================] - 23s 43ms/step - loss: 0.4489 - accuracy: 0.8389 - val_loss: 0.3072 - val_accuracy: 0.8895\n",
      "Epoch 11/50\n",
      "532/532 [==============================] - 23s 43ms/step - loss: 0.4468 - accuracy: 0.8389 - val_loss: 0.3039 - val_accuracy: 0.8913\n"
     ]
    },
    {
     "data": {
      "text/plain": [
       "<keras.callbacks.History at 0x7f2848103100>"
      ]
     },
     "execution_count": 11,
     "metadata": {},
     "output_type": "execute_result"
    }
   ],
   "source": [
    "model.fit(data_augmentor.flow(X_train_comby, y_train_comby, batch_size=128),\n",
    "         validation_data=(X_val, y_val), epochs=50, callbacks=[callback_val_loss])"
   ]
  },
  {
   "cell_type": "markdown",
   "id": "87056e53-65c3-4703-898d-724f44cf15bc",
   "metadata": {},
   "source": [
    "### 8. Evaluate the augmented model"
   ]
  },
  {
   "cell_type": "code",
   "execution_count": 12,
   "id": "84e12cd0-4fbb-4ca0-b5e3-8abfdb1cb505",
   "metadata": {},
   "outputs": [
    {
     "name": "stdout",
     "output_type": "stream",
     "text": [
      "313/313 [==============================] - 5s 15ms/step - loss: 0.2966 - accuracy: 0.8880\n",
      "407/407 [==============================] - 6s 15ms/step - loss: 0.3415 - accuracy: 0.8743\n"
     ]
    },
    {
     "data": {
      "text/plain": [
       "[0.34147053956985474, 0.8743076920509338]"
      ]
     },
     "execution_count": 12,
     "metadata": {},
     "output_type": "execute_result"
    }
   ],
   "source": [
    "model.evaluate(X_test, y_test) \n",
    "model.evaluate(data_augmentor.flow(X_test_comby, y_test_comby))"
   ]
  },
  {
   "cell_type": "markdown",
   "id": "8e69b7bb-1f68-4bd1-bd96-da4722653ea0",
   "metadata": {},
   "source": [
    "### 9. Save the augmented model "
   ]
  },
  {
   "cell_type": "code",
   "execution_count": 11,
   "id": "ad42f3ef-5c6f-429e-88cf-1ebe0b434b8f",
   "metadata": {},
   "outputs": [
    {
     "name": "stderr",
     "output_type": "stream",
     "text": [
      "WARNING:absl:Found untraced functions such as _jit_compiled_convolution_op, _jit_compiled_convolution_op, _jit_compiled_convolution_op, _jit_compiled_convolution_op while saving (showing 4 of 4). These functions will not be directly callable after loading.\n"
     ]
    },
    {
     "name": "stdout",
     "output_type": "stream",
     "text": [
      "INFO:tensorflow:Assets written to: initial_augmented_model/assets\n"
     ]
    },
    {
     "name": "stderr",
     "output_type": "stream",
     "text": [
      "INFO:tensorflow:Assets written to: initial_augmented_model/assets\n"
     ]
    }
   ],
   "source": [
    "model.save('initial_augmented_model')"
   ]
  },
  {
   "cell_type": "markdown",
   "id": "3b68f98b-511c-48fc-85f5-c2ee49ce1bce",
   "metadata": {},
   "source": [
    "### 10. Load the augmented model"
   ]
  },
  {
   "cell_type": "code",
   "execution_count": 27,
   "id": "360a21d0-bd32-4a73-b2fb-c922b3fd370f",
   "metadata": {},
   "outputs": [],
   "source": [
    "model = tf.keras.models.load_model('initial_augmented_model')"
   ]
  },
  {
   "cell_type": "markdown",
   "id": "466a36d1-9ede-4ed9-bb1a-ba8e1926facd",
   "metadata": {},
   "source": [
    "### 11. Train and evaluate the augmented model on the initial samples"
   ]
  },
  {
   "cell_type": "code",
   "execution_count": 28,
   "id": "fe98a675-2ab1-4b7d-a3e0-4079c19f929e",
   "metadata": {},
   "outputs": [
    {
     "name": "stdout",
     "output_type": "stream",
     "text": [
      "313/313 [==============================] - 5s 15ms/step - loss: 0.2926 - accuracy: 0.8928\n"
     ]
    },
    {
     "data": {
      "text/plain": [
       "[0.29261577129364014, 0.892799973487854]"
      ]
     },
     "execution_count": 28,
     "metadata": {},
     "output_type": "execute_result"
    }
   ],
   "source": [
    "model.evaluate(X_test, y_test) #), steps=math.ceil(10000/32)"
   ]
  },
  {
   "cell_type": "code",
   "execution_count": 31,
   "id": "6a7f9503-3fbd-4a1e-970e-663540b65525",
   "metadata": {},
   "outputs": [
    {
     "name": "stdout",
     "output_type": "stream",
     "text": [
      "313/313 [==============================] - 2s 7ms/step\n",
      "407/407 [==============================] - 6s 15ms/step - loss: 0.3487 - accuracy: 0.8718\n"
     ]
    },
    {
     "data": {
      "image/png": "[encoded data removed]",
      "text/plain": [
       "<Figure size 500x500 with 2 Axes>"
      ]
     },
     "metadata": {},
     "output_type": "display_data"
    }
   ],
   "source": [
    "y_pred = model.predict(X_test)\n",
    "model.evaluate(data_augmentor.flow(X_test_comby, y_test_comby))\n",
    "confusion_matrix_plot(y_test, y_pred, 'Confusion matrix for augmented model')"
   ]
  },
  {
   "cell_type": "markdown",
   "id": "5d5d3141-7c5d-461d-891a-81bd92a1292c",
   "metadata": {},
   "source": [
    "# NEXT STEP: Adversarial Regularization"
   ]
  },
  {
   "cell_type": "markdown",
   "id": "17f37138-048e-4955-8e51-fa4eb5837e1c",
   "metadata": {},
   "source": [
    "#### Config object with relevant hyperparameters: \n",
    "multiplier: How many % of adversarial loss (0-1) to be taken into account in final training, now 0.2\n",
    "adv_step_size: step size to find adversarial examples, now 0.2\n",
    "#### Adversarial model wrapped around the original model."
   ]
  },
  {
   "cell_type": "markdown",
   "id": "b0ef6d96-7fe9-4354-888c-4c132a6cd1cf",
   "metadata": {},
   "source": [
    "### 12. Train the adversarial model\n",
    "Apply adversarial pattern to the augmented data also. "
   ]
  },
  {
   "cell_type": "code",
   "execution_count": 14,
   "id": "2bef779e-db61-4f2a-b144-81380b09fcc6",
   "metadata": {},
   "outputs": [],
   "source": [
    "adv_config_02 = nsl.configs.make_adv_reg_config(multiplier=0.2, adv_step_size=0.2)\n",
    "adv_model = nsl.keras.AdversarialRegularization(model, adv_config=adv_config_02)\n",
    "adv_model.compile(optimizer = optimizer,\n",
    "              loss=keras.losses.categorical_crossentropy, metrics=[\"accuracy\"])\n",
    "# adv_model.fit(generator(X_train, y_train, data_augmentor, subset='training'), batch_size=128, epochs=30, callbacks=[callback_cc_loss], steps_per_epoch=768) \n"
   ]
  },
  {
   "cell_type": "code",
   "execution_count": null,
   "id": "4468fee2-c85f-4f7a-ae83-1e284ffe7558",
   "metadata": {},
   "outputs": [],
   "source": [
    "adv_model.fit({'feature': X_train, 'label': y_train}, batch_size=128, epochs=50, callbacks=[callback_loss, callback_adv_loss], steps_per_epoch=768)\n",
    "adv_model.evaluate({'feature': X_test, 'label': y_test[:10000]}, steps=math.ceil(20000/128))"
   ]
  },
  {
   "cell_type": "markdown",
   "id": "6388a15d-329f-4d27-ac7c-6b74defaddeb",
   "metadata": {},
   "source": [
    "### 13. Evaluate the adversarial model"
   ]
  },
  {
   "cell_type": "code",
   "execution_count": null,
   "id": "cbb02bbe-ace8-4646-8831-51cee2e229ea",
   "metadata": {},
   "outputs": [],
   "source": [
    "#score = adv_model.evaluate(generator(X_test_comby, y_test, data_augmentor, subset='training' ), batch_size=32, steps=math.ceil(10000/32))\n",
    "#print(score)"
   ]
  },
  {
   "cell_type": "markdown",
   "id": "cb93f049-7278-4002-bf87-a12c601262ec",
   "metadata": {},
   "source": [
    "### 14. Save the adversarial model"
   ]
  },
  {
   "cell_type": "code",
   "execution_count": null,
   "id": "e49747fc-77b1-4436-8e32-3bfddb0649b2",
   "metadata": {},
   "outputs": [],
   "source": [
    "adv_model.save('adversarial_augmented_model_0.2_noAugOnAdv')"
   ]
  },
  {
   "cell_type": "markdown",
   "id": "d9e8f16c-5c12-4378-9fcb-d0075bebee5d",
   "metadata": {},
   "source": [
    "### 15. Train a non-augmented adversarial model"
   ]
  },
  {
   "cell_type": "code",
   "execution_count": 15,
   "id": "48f49a0e-f932-4417-8a7e-6b485644f93a",
   "metadata": {},
   "outputs": [
    {
     "name": "stdout",
     "output_type": "stream",
     "text": [
      "Epoch 1/50\n",
      "WARNING:tensorflow:From /usr/local/lib/python3.8/dist-packages/tensorflow/python/autograph/pyct/static_analysis/liveness.py:83: Analyzer.lamba_check (from tensorflow.python.autograph.pyct.static_analysis.liveness) is deprecated and will be removed after 2023-09-23.\n",
      "Instructions for updating:\n",
      "Lambda fuctions will be no more assumed to be used in the statement where they are used, or at least in the same block. https://github.com/tensorflow/tensorflow/issues/56089\n"
     ]
    },
    {
     "name": "stderr",
     "output_type": "stream",
     "text": [
      "WARNING:absl:Cannot perturb features dict_keys(['label'])\n"
     ]
    },
    {
     "name": "stdout",
     "output_type": "stream",
     "text": [
      "768/768 [==============================] - 18s 19ms/step - loss: 0.1578 - categorical_crossentropy: 0.1048 - categorical_accuracy: 0.9601 - scaled_adversarial_loss: 0.0530\n",
      "Epoch 2/50\n",
      "768/768 [==============================] - 15s 20ms/step - loss: 0.1486 - categorical_crossentropy: 0.1008 - categorical_accuracy: 0.9623 - scaled_adversarial_loss: 0.0478\n",
      "Epoch 3/50\n",
      "768/768 [==============================] - 17s 22ms/step - loss: 0.1404 - categorical_crossentropy: 0.0958 - categorical_accuracy: 0.9638 - scaled_adversarial_loss: 0.0447\n",
      "Epoch 4/50\n",
      "768/768 [==============================] - 16s 21ms/step - loss: 0.1365 - categorical_crossentropy: 0.0937 - categorical_accuracy: 0.9644 - scaled_adversarial_loss: 0.0428\n",
      "Epoch 5/50\n",
      "768/768 [==============================] - 16s 21ms/step - loss: 0.1325 - categorical_crossentropy: 0.0902 - categorical_accuracy: 0.9660 - scaled_adversarial_loss: 0.0423\n",
      "Epoch 6/50\n",
      "768/768 [==============================] - 16s 21ms/step - loss: 0.1283 - categorical_crossentropy: 0.0875 - categorical_accuracy: 0.9678 - scaled_adversarial_loss: 0.0408\n",
      "Epoch 7/50\n",
      "768/768 [==============================] - 15s 20ms/step - loss: 0.1201 - categorical_crossentropy: 0.0806 - categorical_accuracy: 0.9695 - scaled_adversarial_loss: 0.0396\n",
      "Epoch 8/50\n",
      "768/768 [==============================] - 15s 19ms/step - loss: 0.1224 - categorical_crossentropy: 0.0834 - categorical_accuracy: 0.9689 - scaled_adversarial_loss: 0.0390\n",
      "Epoch 9/50\n",
      "768/768 [==============================] - 16s 20ms/step - loss: 0.1184 - categorical_crossentropy: 0.0805 - categorical_accuracy: 0.9696 - scaled_adversarial_loss: 0.0379\n",
      "Epoch 10/50\n",
      "768/768 [==============================] - 17s 22ms/step - loss: 0.1165 - categorical_crossentropy: 0.0793 - categorical_accuracy: 0.9700 - scaled_adversarial_loss: 0.0372\n",
      "Epoch 11/50\n",
      "768/768 [==============================] - 17s 22ms/step - loss: 0.1102 - categorical_crossentropy: 0.0741 - categorical_accuracy: 0.9718 - scaled_adversarial_loss: 0.0361\n",
      "Epoch 12/50\n",
      "768/768 [==============================] - 17s 21ms/step - loss: 0.1092 - categorical_crossentropy: 0.0740 - categorical_accuracy: 0.9722 - scaled_adversarial_loss: 0.0352\n",
      "Epoch 13/50\n",
      "768/768 [==============================] - 16s 21ms/step - loss: 0.1095 - categorical_crossentropy: 0.0742 - categorical_accuracy: 0.9722 - scaled_adversarial_loss: 0.0354\n",
      "Epoch 14/50\n",
      "768/768 [==============================] - 16s 21ms/step - loss: 0.1035 - categorical_crossentropy: 0.0704 - categorical_accuracy: 0.9735 - scaled_adversarial_loss: 0.0332\n",
      "Epoch 15/50\n",
      "768/768 [==============================] - 15s 19ms/step - loss: 0.1023 - categorical_crossentropy: 0.0682 - categorical_accuracy: 0.9748 - scaled_adversarial_loss: 0.0341\n",
      "Epoch 16/50\n",
      "768/768 [==============================] - 15s 19ms/step - loss: 0.1011 - categorical_crossentropy: 0.0678 - categorical_accuracy: 0.9751 - scaled_adversarial_loss: 0.0332\n",
      "Epoch 17/50\n",
      "768/768 [==============================] - 15s 19ms/step - loss: 0.1005 - categorical_crossentropy: 0.0676 - categorical_accuracy: 0.9747 - scaled_adversarial_loss: 0.0329\n",
      "Epoch 18/50\n",
      "768/768 [==============================] - 15s 19ms/step - loss: 0.0980 - categorical_crossentropy: 0.0658 - categorical_accuracy: 0.9758 - scaled_adversarial_loss: 0.0321\n",
      "Epoch 19/50\n",
      "768/768 [==============================] - 15s 19ms/step - loss: 0.0953 - categorical_crossentropy: 0.0640 - categorical_accuracy: 0.9766 - scaled_adversarial_loss: 0.0312\n",
      "Epoch 20/50\n",
      "768/768 [==============================] - 15s 19ms/step - loss: 0.0954 - categorical_crossentropy: 0.0647 - categorical_accuracy: 0.9758 - scaled_adversarial_loss: 0.0307\n",
      "Epoch 21/50\n",
      "768/768 [==============================] - 16s 21ms/step - loss: 0.0937 - categorical_crossentropy: 0.0634 - categorical_accuracy: 0.9767 - scaled_adversarial_loss: 0.0303\n",
      "Epoch 22/50\n",
      "768/768 [==============================] - 15s 20ms/step - loss: 0.0952 - categorical_crossentropy: 0.0648 - categorical_accuracy: 0.9762 - scaled_adversarial_loss: 0.0304\n",
      "Epoch 23/50\n",
      "768/768 [==============================] - 15s 19ms/step - loss: 0.0919 - categorical_crossentropy: 0.0617 - categorical_accuracy: 0.9769 - scaled_adversarial_loss: 0.0302\n",
      "Epoch 24/50\n",
      "768/768 [==============================] - 15s 19ms/step - loss: 0.0902 - categorical_crossentropy: 0.0608 - categorical_accuracy: 0.9776 - scaled_adversarial_loss: 0.0294\n",
      "Epoch 25/50\n",
      "316/768 [===========>..................] - ETA: 8s - loss: 0.0882 - categorical_crossentropy: 0.0587 - categorical_accuracy: 0.9786 - scaled_adversarial_loss: 0.0296WARNING:tensorflow:Your input ran out of data; interrupting training. Make sure that your dataset or generator can generate at least `steps_per_epoch * epochs` batches (in this case, 38400 batches). You may need to use the repeat() function when building your dataset.\n"
     ]
    },
    {
     "name": "stderr",
     "output_type": "stream",
     "text": [
      "WARNING:tensorflow:Your input ran out of data; interrupting training. Make sure that your dataset or generator can generate at least `steps_per_epoch * epochs` batches (in this case, 38400 batches). You may need to use the repeat() function when building your dataset.\n"
     ]
    },
    {
     "name": "stdout",
     "output_type": "stream",
     "text": [
      "768/768 [==============================] - 7s 9ms/step - loss: 0.0882 - categorical_crossentropy: 0.0587 - categorical_accuracy: 0.9786 - scaled_adversarial_loss: 0.0295\n"
     ]
    },
    {
     "data": {
      "text/plain": [
       "<keras.callbacks.History at 0x7f25fc7cc0a0>"
      ]
     },
     "execution_count": 15,
     "metadata": {},
     "output_type": "execute_result"
    }
   ],
   "source": [
    "model = tf.keras.models.load_model('initial_model')\n",
    "adv_model = nsl.keras.AdversarialRegularization(model, adv_config=adv_config_02)\n",
    "adv_model.compile(optimizer = optimizer,\n",
    "              loss=keras.losses.categorical_crossentropy, metrics=[\"accuracy\"])\n",
    "adv_model.fit({'feature': X_train, 'label': y_train}, batch_size=128, epochs=50, callbacks=[callback_loss, callback_adv_loss], steps_per_epoch=768)"
   ]
  }
 ],
 "metadata": {
  "kernelspec": {
   "display_name": "Python",
   "language": "python",
   "name": "python3"
  },
  "language_info": {
   "codemirror_mode": {
    "name": "ipython",
    "version": 3
   },
   "file_extension": ".py",
   "mimetype": "text/x-python",
   "name": "python",
   "nbconvert_exporter": "python",
   "pygments_lexer": "ipython3",
   "version": "3.8.10"
  }
 },
 "nbformat": 4,
 "nbformat_minor": 5
}
